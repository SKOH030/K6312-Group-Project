{
 "cells": [
  {
   "cell_type": "markdown",
   "metadata": {},
   "source": [
    " "
   ]
  },
  {
   "cell_type": "markdown",
   "metadata": {},
   "source": [
    "# Group Project Team 2"
   ]
  },
  {
   "cell_type": "markdown",
   "metadata": {},
   "source": [
    "## Using Machine Learning Algorithms to predict CardioVascular Disease"
   ]
  },
  {
   "cell_type": "code",
   "execution_count": 60,
   "metadata": {},
   "outputs": [],
   "source": [
    "# Group Project Team 2 - Comparison of various models for CardioVascular Disease\n",
    "# Data Information - taken from https://www.kaggle.com/sulianova/cardiovascular-disease-dataset\n",
    "# age in days\n",
    "# gender:                  1 - women, 2 - men\n",
    "# height cm\n",
    "# weight kg\n",
    "# ap_hiSystolic blood pressure\n",
    "# ap_loDiastolic blood pressure\n",
    "# cholesterol:             1: normal, 2: above normal, 3: well above normal\n",
    "# gluc:                    1:normal, 2: above normal, 3: well above normal\n",
    "# smoke:                   1 when patient smoke, 0 when patient don't smoke\n",
    "# alco Binary feature:     1 when patient drinks alcohol, 0 when patient don't drink alcohol\n",
    "# active Binary feature:   1 when patient is active, 0 when patient is not active\n",
    "# cardio Target variable:  1 when patient has cardiovascular desease, 0 for healthy patient."
   ]
  },
  {
   "cell_type": "code",
   "execution_count": 61,
   "metadata": {},
   "outputs": [
    {
     "data": {
      "text/html": [
       "<div>\n",
       "<style scoped>\n",
       "    .dataframe tbody tr th:only-of-type {\n",
       "        vertical-align: middle;\n",
       "    }\n",
       "\n",
       "    .dataframe tbody tr th {\n",
       "        vertical-align: top;\n",
       "    }\n",
       "\n",
       "    .dataframe thead th {\n",
       "        text-align: right;\n",
       "    }\n",
       "</style>\n",
       "<table border=\"1\" class=\"dataframe\">\n",
       "  <thead>\n",
       "    <tr style=\"text-align: right;\">\n",
       "      <th></th>\n",
       "      <th>id</th>\n",
       "      <th>age</th>\n",
       "      <th>gender</th>\n",
       "      <th>height</th>\n",
       "      <th>weight</th>\n",
       "      <th>ap_hi</th>\n",
       "      <th>ap_lo</th>\n",
       "      <th>cholesterol</th>\n",
       "      <th>gluc</th>\n",
       "      <th>smoke</th>\n",
       "      <th>alco</th>\n",
       "      <th>active</th>\n",
       "      <th>cardio</th>\n",
       "    </tr>\n",
       "  </thead>\n",
       "  <tbody>\n",
       "    <tr>\n",
       "      <th>0</th>\n",
       "      <td>0</td>\n",
       "      <td>18393</td>\n",
       "      <td>2</td>\n",
       "      <td>168</td>\n",
       "      <td>62.0</td>\n",
       "      <td>110</td>\n",
       "      <td>80</td>\n",
       "      <td>1</td>\n",
       "      <td>1</td>\n",
       "      <td>0</td>\n",
       "      <td>0</td>\n",
       "      <td>1</td>\n",
       "      <td>0</td>\n",
       "    </tr>\n",
       "    <tr>\n",
       "      <th>1</th>\n",
       "      <td>1</td>\n",
       "      <td>20228</td>\n",
       "      <td>1</td>\n",
       "      <td>156</td>\n",
       "      <td>85.0</td>\n",
       "      <td>140</td>\n",
       "      <td>90</td>\n",
       "      <td>3</td>\n",
       "      <td>1</td>\n",
       "      <td>0</td>\n",
       "      <td>0</td>\n",
       "      <td>1</td>\n",
       "      <td>1</td>\n",
       "    </tr>\n",
       "    <tr>\n",
       "      <th>2</th>\n",
       "      <td>2</td>\n",
       "      <td>18857</td>\n",
       "      <td>1</td>\n",
       "      <td>165</td>\n",
       "      <td>64.0</td>\n",
       "      <td>130</td>\n",
       "      <td>70</td>\n",
       "      <td>3</td>\n",
       "      <td>1</td>\n",
       "      <td>0</td>\n",
       "      <td>0</td>\n",
       "      <td>0</td>\n",
       "      <td>1</td>\n",
       "    </tr>\n",
       "    <tr>\n",
       "      <th>3</th>\n",
       "      <td>3</td>\n",
       "      <td>17623</td>\n",
       "      <td>2</td>\n",
       "      <td>169</td>\n",
       "      <td>82.0</td>\n",
       "      <td>150</td>\n",
       "      <td>100</td>\n",
       "      <td>1</td>\n",
       "      <td>1</td>\n",
       "      <td>0</td>\n",
       "      <td>0</td>\n",
       "      <td>1</td>\n",
       "      <td>1</td>\n",
       "    </tr>\n",
       "    <tr>\n",
       "      <th>4</th>\n",
       "      <td>4</td>\n",
       "      <td>17474</td>\n",
       "      <td>1</td>\n",
       "      <td>156</td>\n",
       "      <td>56.0</td>\n",
       "      <td>100</td>\n",
       "      <td>60</td>\n",
       "      <td>1</td>\n",
       "      <td>1</td>\n",
       "      <td>0</td>\n",
       "      <td>0</td>\n",
       "      <td>0</td>\n",
       "      <td>0</td>\n",
       "    </tr>\n",
       "  </tbody>\n",
       "</table>\n",
       "</div>"
      ],
      "text/plain": [
       "   id    age  gender  height  weight  ap_hi  ap_lo  cholesterol  gluc  smoke  \\\n",
       "0   0  18393       2     168    62.0    110     80            1     1      0   \n",
       "1   1  20228       1     156    85.0    140     90            3     1      0   \n",
       "2   2  18857       1     165    64.0    130     70            3     1      0   \n",
       "3   3  17623       2     169    82.0    150    100            1     1      0   \n",
       "4   4  17474       1     156    56.0    100     60            1     1      0   \n",
       "\n",
       "   alco  active  cardio  \n",
       "0     0       1       0  \n",
       "1     0       1       1  \n",
       "2     0       0       1  \n",
       "3     0       1       1  \n",
       "4     0       0       0  "
      ]
     },
     "execution_count": 61,
     "metadata": {},
     "output_type": "execute_result"
    }
   ],
   "source": [
    "# Import Libraries and read datafile\n",
    "import pandas as pd\n",
    "import numpy as np\n",
    "import seaborn as sns\n",
    "from pandas import read_csv\n",
    "from matplotlib import pyplot as plt\n",
    "from sklearn.metrics import accuracy_score\n",
    "import os\n",
    "import time\n",
    "import csv\n",
    "df = read_csv('cardio_train.csv', sep=';')\n",
    "df.head(5)"
   ]
  },
  {
   "cell_type": "markdown",
   "metadata": {},
   "source": [
    "## 1. Clean the dataset"
   ]
  },
  {
   "cell_type": "code",
   "execution_count": 62,
   "metadata": {
    "scrolled": false
   },
   "outputs": [
    {
     "name": "stdout",
     "output_type": "stream",
     "text": [
      "There is 0 missing values in data frame\n"
     ]
    },
    {
     "data": {
      "text/plain": [
       "(70000, 13)"
      ]
     },
     "execution_count": 62,
     "metadata": {},
     "output_type": "execute_result"
    }
   ],
   "source": [
    "# Check for missing data\n",
    "# df.isnull().values.any()\n",
    "print(\"There is {} missing values in data frame\".format(df.isnull().sum().sum()))\n",
    "df.shape"
   ]
  },
  {
   "cell_type": "code",
   "execution_count": 63,
   "metadata": {},
   "outputs": [
    {
     "data": {
      "text/plain": [
       "(70000, 12)"
      ]
     },
     "execution_count": 63,
     "metadata": {},
     "output_type": "execute_result"
    }
   ],
   "source": [
    "# Drop id since it is not useful for modelling\n",
    "df.drop(\"id\",axis=1,inplace=True)\n",
    "df.shape"
   ]
  },
  {
   "cell_type": "code",
   "execution_count": 64,
   "metadata": {},
   "outputs": [
    {
     "name": "stdout",
     "output_type": "stream",
     "text": [
      "There is 24 duplicated values in data frame\n"
     ]
    },
    {
     "data": {
      "text/html": [
       "<div>\n",
       "<style scoped>\n",
       "    .dataframe tbody tr th:only-of-type {\n",
       "        vertical-align: middle;\n",
       "    }\n",
       "\n",
       "    .dataframe tbody tr th {\n",
       "        vertical-align: top;\n",
       "    }\n",
       "\n",
       "    .dataframe thead th {\n",
       "        text-align: right;\n",
       "    }\n",
       "</style>\n",
       "<table border=\"1\" class=\"dataframe\">\n",
       "  <thead>\n",
       "    <tr style=\"text-align: right;\">\n",
       "      <th></th>\n",
       "      <th>age</th>\n",
       "      <th>gender</th>\n",
       "      <th>height</th>\n",
       "      <th>weight</th>\n",
       "      <th>ap_hi</th>\n",
       "      <th>ap_lo</th>\n",
       "      <th>cholesterol</th>\n",
       "      <th>gluc</th>\n",
       "      <th>smoke</th>\n",
       "      <th>alco</th>\n",
       "      <th>active</th>\n",
       "      <th>cardio</th>\n",
       "    </tr>\n",
       "  </thead>\n",
       "  <tbody>\n",
       "    <tr>\n",
       "      <th>2677</th>\n",
       "      <td>22077</td>\n",
       "      <td>1</td>\n",
       "      <td>175</td>\n",
       "      <td>69.0</td>\n",
       "      <td>120</td>\n",
       "      <td>80</td>\n",
       "      <td>1</td>\n",
       "      <td>1</td>\n",
       "      <td>0</td>\n",
       "      <td>0</td>\n",
       "      <td>1</td>\n",
       "      <td>1</td>\n",
       "    </tr>\n",
       "    <tr>\n",
       "      <th>45748</th>\n",
       "      <td>22077</td>\n",
       "      <td>1</td>\n",
       "      <td>175</td>\n",
       "      <td>69.0</td>\n",
       "      <td>120</td>\n",
       "      <td>80</td>\n",
       "      <td>1</td>\n",
       "      <td>1</td>\n",
       "      <td>0</td>\n",
       "      <td>0</td>\n",
       "      <td>1</td>\n",
       "      <td>1</td>\n",
       "    </tr>\n",
       "    <tr>\n",
       "      <th>1568</th>\n",
       "      <td>21945</td>\n",
       "      <td>1</td>\n",
       "      <td>165</td>\n",
       "      <td>60.0</td>\n",
       "      <td>120</td>\n",
       "      <td>80</td>\n",
       "      <td>1</td>\n",
       "      <td>1</td>\n",
       "      <td>0</td>\n",
       "      <td>0</td>\n",
       "      <td>1</td>\n",
       "      <td>0</td>\n",
       "    </tr>\n",
       "    <tr>\n",
       "      <th>48917</th>\n",
       "      <td>21945</td>\n",
       "      <td>1</td>\n",
       "      <td>165</td>\n",
       "      <td>60.0</td>\n",
       "      <td>120</td>\n",
       "      <td>80</td>\n",
       "      <td>1</td>\n",
       "      <td>1</td>\n",
       "      <td>0</td>\n",
       "      <td>0</td>\n",
       "      <td>1</td>\n",
       "      <td>0</td>\n",
       "    </tr>\n",
       "  </tbody>\n",
       "</table>\n",
       "</div>"
      ],
      "text/plain": [
       "         age  gender  height  weight  ap_hi  ap_lo  cholesterol  gluc  smoke  \\\n",
       "2677   22077       1     175    69.0    120     80            1     1      0   \n",
       "45748  22077       1     175    69.0    120     80            1     1      0   \n",
       "1568   21945       1     165    60.0    120     80            1     1      0   \n",
       "48917  21945       1     165    60.0    120     80            1     1      0   \n",
       "\n",
       "       alco  active  cardio  \n",
       "2677      0       1       1  \n",
       "45748     0       1       1  \n",
       "1568      0       1       0  \n",
       "48917     0       1       0  "
      ]
     },
     "execution_count": 64,
     "metadata": {},
     "output_type": "execute_result"
    }
   ],
   "source": [
    "# Check for duplicate data\n",
    "print(\"There is {} duplicated values in data frame\".format(df.duplicated().sum()))\n",
    "duplicated = df[df.duplicated(keep=False)]\n",
    "duplicated = duplicated.sort_values(by=['age', \"gender\", \"height\"], ascending= False) \n",
    "duplicated.head(4) # Show us just 2 duplications"
   ]
  },
  {
   "cell_type": "code",
   "execution_count": 65,
   "metadata": {},
   "outputs": [
    {
     "name": "stdout",
     "output_type": "stream",
     "text": [
      "There is 0 duplicated values in data frame\n"
     ]
    },
    {
     "data": {
      "text/plain": [
       "(69976, 12)"
      ]
     },
     "execution_count": 65,
     "metadata": {},
     "output_type": "execute_result"
    }
   ],
   "source": [
    "# Remove duplicates\n",
    "df.drop_duplicates(inplace=True)\n",
    "\n",
    "# Confirm the removal\n",
    "print(\"There is {} duplicated values in data frame\".format(df.duplicated().sum()))\n",
    "df.shape"
   ]
  },
  {
   "cell_type": "code",
   "execution_count": 66,
   "metadata": {},
   "outputs": [
    {
     "data": {
      "text/html": [
       "<div>\n",
       "<style scoped>\n",
       "    .dataframe tbody tr th:only-of-type {\n",
       "        vertical-align: middle;\n",
       "    }\n",
       "\n",
       "    .dataframe tbody tr th {\n",
       "        vertical-align: top;\n",
       "    }\n",
       "\n",
       "    .dataframe thead th {\n",
       "        text-align: right;\n",
       "    }\n",
       "</style>\n",
       "<table border=\"1\" class=\"dataframe\">\n",
       "  <thead>\n",
       "    <tr style=\"text-align: right;\">\n",
       "      <th></th>\n",
       "      <th>age</th>\n",
       "      <th>gender</th>\n",
       "      <th>height</th>\n",
       "      <th>weight</th>\n",
       "      <th>ap_hi</th>\n",
       "      <th>ap_lo</th>\n",
       "      <th>cholesterol</th>\n",
       "      <th>gluc</th>\n",
       "      <th>smoke</th>\n",
       "      <th>alco</th>\n",
       "      <th>active</th>\n",
       "      <th>cardio</th>\n",
       "    </tr>\n",
       "  </thead>\n",
       "  <tbody>\n",
       "    <tr>\n",
       "      <th>0</th>\n",
       "      <td>50</td>\n",
       "      <td>2</td>\n",
       "      <td>168</td>\n",
       "      <td>62.0</td>\n",
       "      <td>110</td>\n",
       "      <td>80</td>\n",
       "      <td>1</td>\n",
       "      <td>1</td>\n",
       "      <td>0</td>\n",
       "      <td>0</td>\n",
       "      <td>1</td>\n",
       "      <td>0</td>\n",
       "    </tr>\n",
       "    <tr>\n",
       "      <th>1</th>\n",
       "      <td>55</td>\n",
       "      <td>1</td>\n",
       "      <td>156</td>\n",
       "      <td>85.0</td>\n",
       "      <td>140</td>\n",
       "      <td>90</td>\n",
       "      <td>3</td>\n",
       "      <td>1</td>\n",
       "      <td>0</td>\n",
       "      <td>0</td>\n",
       "      <td>1</td>\n",
       "      <td>1</td>\n",
       "    </tr>\n",
       "    <tr>\n",
       "      <th>2</th>\n",
       "      <td>52</td>\n",
       "      <td>1</td>\n",
       "      <td>165</td>\n",
       "      <td>64.0</td>\n",
       "      <td>130</td>\n",
       "      <td>70</td>\n",
       "      <td>3</td>\n",
       "      <td>1</td>\n",
       "      <td>0</td>\n",
       "      <td>0</td>\n",
       "      <td>0</td>\n",
       "      <td>1</td>\n",
       "    </tr>\n",
       "    <tr>\n",
       "      <th>3</th>\n",
       "      <td>48</td>\n",
       "      <td>2</td>\n",
       "      <td>169</td>\n",
       "      <td>82.0</td>\n",
       "      <td>150</td>\n",
       "      <td>100</td>\n",
       "      <td>1</td>\n",
       "      <td>1</td>\n",
       "      <td>0</td>\n",
       "      <td>0</td>\n",
       "      <td>1</td>\n",
       "      <td>1</td>\n",
       "    </tr>\n",
       "    <tr>\n",
       "      <th>4</th>\n",
       "      <td>48</td>\n",
       "      <td>1</td>\n",
       "      <td>156</td>\n",
       "      <td>56.0</td>\n",
       "      <td>100</td>\n",
       "      <td>60</td>\n",
       "      <td>1</td>\n",
       "      <td>1</td>\n",
       "      <td>0</td>\n",
       "      <td>0</td>\n",
       "      <td>0</td>\n",
       "      <td>0</td>\n",
       "    </tr>\n",
       "  </tbody>\n",
       "</table>\n",
       "</div>"
      ],
      "text/plain": [
       "   age  gender  height  weight  ap_hi  ap_lo  cholesterol  gluc  smoke  alco  \\\n",
       "0   50       2     168    62.0    110     80            1     1      0     0   \n",
       "1   55       1     156    85.0    140     90            3     1      0     0   \n",
       "2   52       1     165    64.0    130     70            3     1      0     0   \n",
       "3   48       2     169    82.0    150    100            1     1      0     0   \n",
       "4   48       1     156    56.0    100     60            1     1      0     0   \n",
       "\n",
       "   active  cardio  \n",
       "0       1       0  \n",
       "1       1       1  \n",
       "2       0       1  \n",
       "3       1       1  \n",
       "4       0       0  "
      ]
     },
     "execution_count": 66,
     "metadata": {},
     "output_type": "execute_result"
    }
   ],
   "source": [
    "# Convert the age from days to years\n",
    "df['age'] = (df['age'] / 365).round().astype('int')\n",
    "df.head(5)"
   ]
  },
  {
   "cell_type": "code",
   "execution_count": 67,
   "metadata": {},
   "outputs": [
    {
     "data": {
      "text/html": [
       "<div>\n",
       "<style scoped>\n",
       "    .dataframe tbody tr th:only-of-type {\n",
       "        vertical-align: middle;\n",
       "    }\n",
       "\n",
       "    .dataframe tbody tr th {\n",
       "        vertical-align: top;\n",
       "    }\n",
       "\n",
       "    .dataframe thead th {\n",
       "        text-align: right;\n",
       "    }\n",
       "</style>\n",
       "<table border=\"1\" class=\"dataframe\">\n",
       "  <thead>\n",
       "    <tr style=\"text-align: right;\">\n",
       "      <th></th>\n",
       "      <th>age</th>\n",
       "      <th>gender</th>\n",
       "      <th>height</th>\n",
       "      <th>weight</th>\n",
       "      <th>ap_hi</th>\n",
       "      <th>ap_lo</th>\n",
       "      <th>cholesterol</th>\n",
       "      <th>gluc</th>\n",
       "      <th>smoke</th>\n",
       "      <th>alco</th>\n",
       "      <th>active</th>\n",
       "      <th>cardio</th>\n",
       "    </tr>\n",
       "  </thead>\n",
       "  <tbody>\n",
       "    <tr>\n",
       "      <th>count</th>\n",
       "      <td>69976.000000</td>\n",
       "      <td>69976.000000</td>\n",
       "      <td>69976.000000</td>\n",
       "      <td>69976.000000</td>\n",
       "      <td>69976.000000</td>\n",
       "      <td>69976.000000</td>\n",
       "      <td>69976.000000</td>\n",
       "      <td>69976.000000</td>\n",
       "      <td>69976.000000</td>\n",
       "      <td>69976.000000</td>\n",
       "      <td>69976.000000</td>\n",
       "      <td>69976.000000</td>\n",
       "    </tr>\n",
       "    <tr>\n",
       "      <th>mean</th>\n",
       "      <td>53.338945</td>\n",
       "      <td>1.349648</td>\n",
       "      <td>164.359152</td>\n",
       "      <td>74.208519</td>\n",
       "      <td>128.820453</td>\n",
       "      <td>96.636261</td>\n",
       "      <td>1.366997</td>\n",
       "      <td>1.226535</td>\n",
       "      <td>0.088159</td>\n",
       "      <td>0.053790</td>\n",
       "      <td>0.803718</td>\n",
       "      <td>0.499771</td>\n",
       "    </tr>\n",
       "    <tr>\n",
       "      <th>std</th>\n",
       "      <td>6.765633</td>\n",
       "      <td>0.476862</td>\n",
       "      <td>8.211218</td>\n",
       "      <td>14.397211</td>\n",
       "      <td>154.037729</td>\n",
       "      <td>188.504581</td>\n",
       "      <td>0.680333</td>\n",
       "      <td>0.572353</td>\n",
       "      <td>0.283528</td>\n",
       "      <td>0.225604</td>\n",
       "      <td>0.397187</td>\n",
       "      <td>0.500004</td>\n",
       "    </tr>\n",
       "    <tr>\n",
       "      <th>min</th>\n",
       "      <td>30.000000</td>\n",
       "      <td>1.000000</td>\n",
       "      <td>55.000000</td>\n",
       "      <td>10.000000</td>\n",
       "      <td>-150.000000</td>\n",
       "      <td>-70.000000</td>\n",
       "      <td>1.000000</td>\n",
       "      <td>1.000000</td>\n",
       "      <td>0.000000</td>\n",
       "      <td>0.000000</td>\n",
       "      <td>0.000000</td>\n",
       "      <td>0.000000</td>\n",
       "    </tr>\n",
       "    <tr>\n",
       "      <th>25%</th>\n",
       "      <td>48.000000</td>\n",
       "      <td>1.000000</td>\n",
       "      <td>159.000000</td>\n",
       "      <td>65.000000</td>\n",
       "      <td>120.000000</td>\n",
       "      <td>80.000000</td>\n",
       "      <td>1.000000</td>\n",
       "      <td>1.000000</td>\n",
       "      <td>0.000000</td>\n",
       "      <td>0.000000</td>\n",
       "      <td>1.000000</td>\n",
       "      <td>0.000000</td>\n",
       "    </tr>\n",
       "    <tr>\n",
       "      <th>50%</th>\n",
       "      <td>54.000000</td>\n",
       "      <td>1.000000</td>\n",
       "      <td>165.000000</td>\n",
       "      <td>72.000000</td>\n",
       "      <td>120.000000</td>\n",
       "      <td>80.000000</td>\n",
       "      <td>1.000000</td>\n",
       "      <td>1.000000</td>\n",
       "      <td>0.000000</td>\n",
       "      <td>0.000000</td>\n",
       "      <td>1.000000</td>\n",
       "      <td>0.000000</td>\n",
       "    </tr>\n",
       "    <tr>\n",
       "      <th>75%</th>\n",
       "      <td>58.000000</td>\n",
       "      <td>2.000000</td>\n",
       "      <td>170.000000</td>\n",
       "      <td>82.000000</td>\n",
       "      <td>140.000000</td>\n",
       "      <td>90.000000</td>\n",
       "      <td>2.000000</td>\n",
       "      <td>1.000000</td>\n",
       "      <td>0.000000</td>\n",
       "      <td>0.000000</td>\n",
       "      <td>1.000000</td>\n",
       "      <td>1.000000</td>\n",
       "    </tr>\n",
       "    <tr>\n",
       "      <th>max</th>\n",
       "      <td>65.000000</td>\n",
       "      <td>2.000000</td>\n",
       "      <td>250.000000</td>\n",
       "      <td>200.000000</td>\n",
       "      <td>16020.000000</td>\n",
       "      <td>11000.000000</td>\n",
       "      <td>3.000000</td>\n",
       "      <td>3.000000</td>\n",
       "      <td>1.000000</td>\n",
       "      <td>1.000000</td>\n",
       "      <td>1.000000</td>\n",
       "      <td>1.000000</td>\n",
       "    </tr>\n",
       "  </tbody>\n",
       "</table>\n",
       "</div>"
      ],
      "text/plain": [
       "                age        gender        height        weight         ap_hi  \\\n",
       "count  69976.000000  69976.000000  69976.000000  69976.000000  69976.000000   \n",
       "mean      53.338945      1.349648    164.359152     74.208519    128.820453   \n",
       "std        6.765633      0.476862      8.211218     14.397211    154.037729   \n",
       "min       30.000000      1.000000     55.000000     10.000000   -150.000000   \n",
       "25%       48.000000      1.000000    159.000000     65.000000    120.000000   \n",
       "50%       54.000000      1.000000    165.000000     72.000000    120.000000   \n",
       "75%       58.000000      2.000000    170.000000     82.000000    140.000000   \n",
       "max       65.000000      2.000000    250.000000    200.000000  16020.000000   \n",
       "\n",
       "              ap_lo   cholesterol          gluc         smoke          alco  \\\n",
       "count  69976.000000  69976.000000  69976.000000  69976.000000  69976.000000   \n",
       "mean      96.636261      1.366997      1.226535      0.088159      0.053790   \n",
       "std      188.504581      0.680333      0.572353      0.283528      0.225604   \n",
       "min      -70.000000      1.000000      1.000000      0.000000      0.000000   \n",
       "25%       80.000000      1.000000      1.000000      0.000000      0.000000   \n",
       "50%       80.000000      1.000000      1.000000      0.000000      0.000000   \n",
       "75%       90.000000      2.000000      1.000000      0.000000      0.000000   \n",
       "max    11000.000000      3.000000      3.000000      1.000000      1.000000   \n",
       "\n",
       "             active        cardio  \n",
       "count  69976.000000  69976.000000  \n",
       "mean       0.803718      0.499771  \n",
       "std        0.397187      0.500004  \n",
       "min        0.000000      0.000000  \n",
       "25%        1.000000      0.000000  \n",
       "50%        1.000000      0.000000  \n",
       "75%        1.000000      1.000000  \n",
       "max        1.000000      1.000000  "
      ]
     },
     "execution_count": 67,
     "metadata": {},
     "output_type": "execute_result"
    }
   ],
   "source": [
    "# Explore the data\n",
    "df.describe()"
   ]
  },
  {
   "cell_type": "code",
   "execution_count": 68,
   "metadata": {},
   "outputs": [
    {
     "data": {
      "text/plain": [
       "<matplotlib.axes._subplots.AxesSubplot at 0x1c9f137dcf8>"
      ]
     },
     "execution_count": 68,
     "metadata": {},
     "output_type": "execute_result"
    },
    {
     "data": {
      "image/png": "[encoded data removed]",
      "text/plain": [
       "<Figure size 360x360 with 1 Axes>"
      ]
     },
     "metadata": {
      "needs_background": "light"
     },
     "output_type": "display_data"
    }
   ],
   "source": [
    "# Explore the patients height and weight\n",
    "# Min weight is 10 kg, min height is 55cm, min age is 30 years old (10kg is not normal for anyone 30 years old or more)\n",
    "# Max weight is 200 kg, max height is 250cm, max age is 65 years old (250 cm is not normal for anyone)\n",
    "plt.figure(figsize=(5,5))\n",
    "X = df[['age','height', 'weight']]\n",
    "X.boxplot(column = ['age','height', 'weight'])"
   ]
  },
  {
   "cell_type": "code",
   "execution_count": 69,
   "metadata": {},
   "outputs": [
    {
     "data": {
      "image/png": "[encoded data removed]",
      "text/plain": [
       "<Figure size 360x360 with 1 Axes>"
      ]
     },
     "metadata": {
      "needs_background": "light"
     },
     "output_type": "display_data"
    }
   ],
   "source": [
    "from sklearn.preprocessing import StandardScaler, MinMaxScaler\n",
    "X_m = MinMaxScaler().fit_transform(X)\n",
    "plt.figure(figsize=(5,5))\n",
    "plt.boxplot(X_m)\n",
    "plt.show()"
   ]
  },
  {
   "cell_type": "code",
   "execution_count": 70,
   "metadata": {},
   "outputs": [
    {
     "data": {
      "text/plain": [
       "(67502, 12)"
      ]
     },
     "execution_count": 70,
     "metadata": {},
     "output_type": "execute_result"
    }
   ],
   "source": [
    "# To improve data quality, remove outliers.\n",
    "# Let's remove weights and heights, that fall below 1% or above 99% of a given range.\n",
    "df.drop(df[(df['height'] > df['height'].quantile(0.99)) | (df['height'] < df['height'].quantile(0.01))].index,inplace=True)\n",
    "df.drop(df[(df['weight'] > df['weight'].quantile(0.99)) | (df['weight'] < df['weight'].quantile(0.01))].index,inplace=True)\n",
    "df.shape"
   ]
  },
  {
   "cell_type": "code",
   "execution_count": 71,
   "metadata": {},
   "outputs": [
    {
     "data": {
      "text/plain": [
       "<matplotlib.axes._subplots.AxesSubplot at 0x1c9f190add8>"
      ]
     },
     "execution_count": 71,
     "metadata": {},
     "output_type": "execute_result"
    },
    {
     "data": {
      "image/png": "[encoded data removed]",
      "text/plain": [
       "<Figure size 360x360 with 1 Axes>"
      ]
     },
     "metadata": {
      "needs_background": "light"
     },
     "output_type": "display_data"
    }
   ],
   "source": [
    "# Explore the patients pressure \n",
    "plt.figure(figsize=(5,5))\n",
    "X = df[['ap_hi','ap_lo']]\n",
    "X.boxplot(column = ['ap_hi','ap_lo'])"
   ]
  },
  {
   "cell_type": "code",
   "execution_count": 72,
   "metadata": {},
   "outputs": [
    {
     "data": {
      "text/html": [
       "<div>\n",
       "<style scoped>\n",
       "    .dataframe tbody tr th:only-of-type {\n",
       "        vertical-align: middle;\n",
       "    }\n",
       "\n",
       "    .dataframe tbody tr th {\n",
       "        vertical-align: top;\n",
       "    }\n",
       "\n",
       "    .dataframe thead th {\n",
       "        text-align: right;\n",
       "    }\n",
       "</style>\n",
       "<table border=\"1\" class=\"dataframe\">\n",
       "  <thead>\n",
       "    <tr style=\"text-align: right;\">\n",
       "      <th></th>\n",
       "      <th>age</th>\n",
       "      <th>gender</th>\n",
       "      <th>height</th>\n",
       "      <th>weight</th>\n",
       "      <th>ap_hi</th>\n",
       "      <th>ap_lo</th>\n",
       "      <th>cholesterol</th>\n",
       "      <th>gluc</th>\n",
       "      <th>smoke</th>\n",
       "      <th>alco</th>\n",
       "      <th>active</th>\n",
       "      <th>cardio</th>\n",
       "    </tr>\n",
       "  </thead>\n",
       "  <tbody>\n",
       "    <tr>\n",
       "      <th>count</th>\n",
       "      <td>67502.000000</td>\n",
       "      <td>67502.000000</td>\n",
       "      <td>67502.000000</td>\n",
       "      <td>67502.000000</td>\n",
       "      <td>67502.000000</td>\n",
       "      <td>67502.000000</td>\n",
       "      <td>67502.000000</td>\n",
       "      <td>67502.000000</td>\n",
       "      <td>67502.000000</td>\n",
       "      <td>67502.000000</td>\n",
       "      <td>67502.000000</td>\n",
       "      <td>67502.000000</td>\n",
       "    </tr>\n",
       "    <tr>\n",
       "      <th>mean</th>\n",
       "      <td>53.352123</td>\n",
       "      <td>1.349293</td>\n",
       "      <td>164.456638</td>\n",
       "      <td>73.875724</td>\n",
       "      <td>128.821502</td>\n",
       "      <td>96.310124</td>\n",
       "      <td>1.364197</td>\n",
       "      <td>1.224808</td>\n",
       "      <td>0.087627</td>\n",
       "      <td>0.053421</td>\n",
       "      <td>0.804095</td>\n",
       "      <td>0.499141</td>\n",
       "    </tr>\n",
       "    <tr>\n",
       "      <th>std</th>\n",
       "      <td>6.753830</td>\n",
       "      <td>0.476750</td>\n",
       "      <td>7.321673</td>\n",
       "      <td>12.936256</td>\n",
       "      <td>156.730020</td>\n",
       "      <td>186.248353</td>\n",
       "      <td>0.678584</td>\n",
       "      <td>0.570837</td>\n",
       "      <td>0.282754</td>\n",
       "      <td>0.224872</td>\n",
       "      <td>0.396899</td>\n",
       "      <td>0.500003</td>\n",
       "    </tr>\n",
       "    <tr>\n",
       "      <th>min</th>\n",
       "      <td>30.000000</td>\n",
       "      <td>1.000000</td>\n",
       "      <td>147.000000</td>\n",
       "      <td>48.000000</td>\n",
       "      <td>-150.000000</td>\n",
       "      <td>-70.000000</td>\n",
       "      <td>1.000000</td>\n",
       "      <td>1.000000</td>\n",
       "      <td>0.000000</td>\n",
       "      <td>0.000000</td>\n",
       "      <td>0.000000</td>\n",
       "      <td>0.000000</td>\n",
       "    </tr>\n",
       "    <tr>\n",
       "      <th>25%</th>\n",
       "      <td>48.000000</td>\n",
       "      <td>1.000000</td>\n",
       "      <td>159.000000</td>\n",
       "      <td>65.000000</td>\n",
       "      <td>120.000000</td>\n",
       "      <td>80.000000</td>\n",
       "      <td>1.000000</td>\n",
       "      <td>1.000000</td>\n",
       "      <td>0.000000</td>\n",
       "      <td>0.000000</td>\n",
       "      <td>1.000000</td>\n",
       "      <td>0.000000</td>\n",
       "    </tr>\n",
       "    <tr>\n",
       "      <th>50%</th>\n",
       "      <td>54.000000</td>\n",
       "      <td>1.000000</td>\n",
       "      <td>165.000000</td>\n",
       "      <td>72.000000</td>\n",
       "      <td>120.000000</td>\n",
       "      <td>80.000000</td>\n",
       "      <td>1.000000</td>\n",
       "      <td>1.000000</td>\n",
       "      <td>0.000000</td>\n",
       "      <td>0.000000</td>\n",
       "      <td>1.000000</td>\n",
       "      <td>0.000000</td>\n",
       "    </tr>\n",
       "    <tr>\n",
       "      <th>75%</th>\n",
       "      <td>58.000000</td>\n",
       "      <td>2.000000</td>\n",
       "      <td>170.000000</td>\n",
       "      <td>82.000000</td>\n",
       "      <td>140.000000</td>\n",
       "      <td>90.000000</td>\n",
       "      <td>1.000000</td>\n",
       "      <td>1.000000</td>\n",
       "      <td>0.000000</td>\n",
       "      <td>0.000000</td>\n",
       "      <td>1.000000</td>\n",
       "      <td>1.000000</td>\n",
       "    </tr>\n",
       "    <tr>\n",
       "      <th>max</th>\n",
       "      <td>65.000000</td>\n",
       "      <td>2.000000</td>\n",
       "      <td>184.000000</td>\n",
       "      <td>117.000000</td>\n",
       "      <td>16020.000000</td>\n",
       "      <td>11000.000000</td>\n",
       "      <td>3.000000</td>\n",
       "      <td>3.000000</td>\n",
       "      <td>1.000000</td>\n",
       "      <td>1.000000</td>\n",
       "      <td>1.000000</td>\n",
       "      <td>1.000000</td>\n",
       "    </tr>\n",
       "  </tbody>\n",
       "</table>\n",
       "</div>"
      ],
      "text/plain": [
       "                age        gender        height        weight         ap_hi  \\\n",
       "count  67502.000000  67502.000000  67502.000000  67502.000000  67502.000000   \n",
       "mean      53.352123      1.349293    164.456638     73.875724    128.821502   \n",
       "std        6.753830      0.476750      7.321673     12.936256    156.730020   \n",
       "min       30.000000      1.000000    147.000000     48.000000   -150.000000   \n",
       "25%       48.000000      1.000000    159.000000     65.000000    120.000000   \n",
       "50%       54.000000      1.000000    165.000000     72.000000    120.000000   \n",
       "75%       58.000000      2.000000    170.000000     82.000000    140.000000   \n",
       "max       65.000000      2.000000    184.000000    117.000000  16020.000000   \n",
       "\n",
       "              ap_lo   cholesterol          gluc         smoke          alco  \\\n",
       "count  67502.000000  67502.000000  67502.000000  67502.000000  67502.000000   \n",
       "mean      96.310124      1.364197      1.224808      0.087627      0.053421   \n",
       "std      186.248353      0.678584      0.570837      0.282754      0.224872   \n",
       "min      -70.000000      1.000000      1.000000      0.000000      0.000000   \n",
       "25%       80.000000      1.000000      1.000000      0.000000      0.000000   \n",
       "50%       80.000000      1.000000      1.000000      0.000000      0.000000   \n",
       "75%       90.000000      1.000000      1.000000      0.000000      0.000000   \n",
       "max    11000.000000      3.000000      3.000000      1.000000      1.000000   \n",
       "\n",
       "             active        cardio  \n",
       "count  67502.000000  67502.000000  \n",
       "mean       0.804095      0.499141  \n",
       "std        0.396899      0.500003  \n",
       "min        0.000000      0.000000  \n",
       "25%        1.000000      0.000000  \n",
       "50%        1.000000      0.000000  \n",
       "75%        1.000000      1.000000  \n",
       "max        1.000000      1.000000  "
      ]
     },
     "execution_count": 72,
     "metadata": {},
     "output_type": "execute_result"
    }
   ],
   "source": [
    "df.describe()"
   ]
  },
  {
   "cell_type": "code",
   "execution_count": 73,
   "metadata": {},
   "outputs": [
    {
     "data": {
      "text/plain": [
       "(65149, 12)"
      ]
     },
     "execution_count": 73,
     "metadata": {},
     "output_type": "execute_result"
    }
   ],
   "source": [
    "# Noticed that min blood pressure is negative and max blood pressure is more than 10000. Let us remove outlier\n",
    "# Remove those that fall below 1.5% or above 98.5% of a given range.\n",
    "df.drop(df[(df['ap_hi'] > df['ap_hi'].quantile(0.985)) | (df['ap_hi'] < df['ap_hi'].quantile(0.015))].index,inplace=True)\n",
    "df.drop(df[(df['ap_lo'] > df['ap_lo'].quantile(0.985)) | (df['ap_lo'] < df['ap_lo'].quantile(0.015))].index,inplace=True)\n",
    "df.shape"
   ]
  },
  {
   "cell_type": "code",
   "execution_count": 75,
   "metadata": {},
   "outputs": [
    {
     "name": "stdout",
     "output_type": "stream",
     "text": [
      "Diastilic pressure is higher than systolic one in 0 cases\n"
     ]
    },
    {
     "data": {
      "text/plain": [
       "(65147, 12)"
      ]
     },
     "execution_count": 75,
     "metadata": {},
     "output_type": "execute_result"
    }
   ],
   "source": [
    "# Let us check the blood pressure data\n",
    "# Diastolic pressure cannot be higher than systolic. How many records are inaccurate in terms of blood pressure?\n",
    "# Remove data where diastolic pressure is higher than systolic pressure.\n",
    "print(\"Diastilic pressure is higher than systolic one in {0} cases\".format(df[df['ap_lo']> df['ap_hi']].shape[0]))\n",
    "df.drop(df[(df['ap_lo'] > df['ap_hi'])].index,inplace=True)   \n",
    "df.shape"
   ]
  },
  {
   "cell_type": "code",
   "execution_count": 76,
   "metadata": {},
   "outputs": [
    {
     "data": {
      "text/html": [
       "<div>\n",
       "<style scoped>\n",
       "    .dataframe tbody tr th:only-of-type {\n",
       "        vertical-align: middle;\n",
       "    }\n",
       "\n",
       "    .dataframe tbody tr th {\n",
       "        vertical-align: top;\n",
       "    }\n",
       "\n",
       "    .dataframe thead th {\n",
       "        text-align: right;\n",
       "    }\n",
       "</style>\n",
       "<table border=\"1\" class=\"dataframe\">\n",
       "  <thead>\n",
       "    <tr style=\"text-align: right;\">\n",
       "      <th></th>\n",
       "      <th>age</th>\n",
       "      <th>gender</th>\n",
       "      <th>height</th>\n",
       "      <th>weight</th>\n",
       "      <th>ap_hi</th>\n",
       "      <th>ap_lo</th>\n",
       "      <th>cholesterol</th>\n",
       "      <th>gluc</th>\n",
       "      <th>smoke</th>\n",
       "      <th>alco</th>\n",
       "      <th>active</th>\n",
       "      <th>cardio</th>\n",
       "    </tr>\n",
       "  </thead>\n",
       "  <tbody>\n",
       "    <tr>\n",
       "      <th>count</th>\n",
       "      <td>65147.000000</td>\n",
       "      <td>65147.000000</td>\n",
       "      <td>65147.000000</td>\n",
       "      <td>65147.000000</td>\n",
       "      <td>65147.000000</td>\n",
       "      <td>65147.000000</td>\n",
       "      <td>65147.000000</td>\n",
       "      <td>65147.000000</td>\n",
       "      <td>65147.000000</td>\n",
       "      <td>65147.000000</td>\n",
       "      <td>65147.000000</td>\n",
       "      <td>65147.000000</td>\n",
       "    </tr>\n",
       "    <tr>\n",
       "      <th>mean</th>\n",
       "      <td>53.310682</td>\n",
       "      <td>1.347645</td>\n",
       "      <td>164.471887</td>\n",
       "      <td>73.710447</td>\n",
       "      <td>125.873993</td>\n",
       "      <td>81.043440</td>\n",
       "      <td>1.357576</td>\n",
       "      <td>1.222036</td>\n",
       "      <td>0.086942</td>\n",
       "      <td>0.052527</td>\n",
       "      <td>0.804151</td>\n",
       "      <td>0.489324</td>\n",
       "    </tr>\n",
       "    <tr>\n",
       "      <th>std</th>\n",
       "      <td>6.758899</td>\n",
       "      <td>0.476226</td>\n",
       "      <td>7.293385</td>\n",
       "      <td>12.836057</td>\n",
       "      <td>15.029385</td>\n",
       "      <td>8.809493</td>\n",
       "      <td>0.674307</td>\n",
       "      <td>0.568265</td>\n",
       "      <td>0.281752</td>\n",
       "      <td>0.223090</td>\n",
       "      <td>0.396856</td>\n",
       "      <td>0.499890</td>\n",
       "    </tr>\n",
       "    <tr>\n",
       "      <th>min</th>\n",
       "      <td>30.000000</td>\n",
       "      <td>1.000000</td>\n",
       "      <td>147.000000</td>\n",
       "      <td>48.000000</td>\n",
       "      <td>90.000000</td>\n",
       "      <td>60.000000</td>\n",
       "      <td>1.000000</td>\n",
       "      <td>1.000000</td>\n",
       "      <td>0.000000</td>\n",
       "      <td>0.000000</td>\n",
       "      <td>0.000000</td>\n",
       "      <td>0.000000</td>\n",
       "    </tr>\n",
       "    <tr>\n",
       "      <th>25%</th>\n",
       "      <td>48.000000</td>\n",
       "      <td>1.000000</td>\n",
       "      <td>159.000000</td>\n",
       "      <td>65.000000</td>\n",
       "      <td>120.000000</td>\n",
       "      <td>80.000000</td>\n",
       "      <td>1.000000</td>\n",
       "      <td>1.000000</td>\n",
       "      <td>0.000000</td>\n",
       "      <td>0.000000</td>\n",
       "      <td>1.000000</td>\n",
       "      <td>0.000000</td>\n",
       "    </tr>\n",
       "    <tr>\n",
       "      <th>50%</th>\n",
       "      <td>54.000000</td>\n",
       "      <td>1.000000</td>\n",
       "      <td>165.000000</td>\n",
       "      <td>72.000000</td>\n",
       "      <td>120.000000</td>\n",
       "      <td>80.000000</td>\n",
       "      <td>1.000000</td>\n",
       "      <td>1.000000</td>\n",
       "      <td>0.000000</td>\n",
       "      <td>0.000000</td>\n",
       "      <td>1.000000</td>\n",
       "      <td>0.000000</td>\n",
       "    </tr>\n",
       "    <tr>\n",
       "      <th>75%</th>\n",
       "      <td>58.000000</td>\n",
       "      <td>2.000000</td>\n",
       "      <td>170.000000</td>\n",
       "      <td>81.000000</td>\n",
       "      <td>140.000000</td>\n",
       "      <td>90.000000</td>\n",
       "      <td>1.000000</td>\n",
       "      <td>1.000000</td>\n",
       "      <td>0.000000</td>\n",
       "      <td>0.000000</td>\n",
       "      <td>1.000000</td>\n",
       "      <td>1.000000</td>\n",
       "    </tr>\n",
       "    <tr>\n",
       "      <th>max</th>\n",
       "      <td>65.000000</td>\n",
       "      <td>2.000000</td>\n",
       "      <td>184.000000</td>\n",
       "      <td>117.000000</td>\n",
       "      <td>173.000000</td>\n",
       "      <td>110.000000</td>\n",
       "      <td>3.000000</td>\n",
       "      <td>3.000000</td>\n",
       "      <td>1.000000</td>\n",
       "      <td>1.000000</td>\n",
       "      <td>1.000000</td>\n",
       "      <td>1.000000</td>\n",
       "    </tr>\n",
       "  </tbody>\n",
       "</table>\n",
       "</div>"
      ],
      "text/plain": [
       "                age        gender        height        weight         ap_hi  \\\n",
       "count  65147.000000  65147.000000  65147.000000  65147.000000  65147.000000   \n",
       "mean      53.310682      1.347645    164.471887     73.710447    125.873993   \n",
       "std        6.758899      0.476226      7.293385     12.836057     15.029385   \n",
       "min       30.000000      1.000000    147.000000     48.000000     90.000000   \n",
       "25%       48.000000      1.000000    159.000000     65.000000    120.000000   \n",
       "50%       54.000000      1.000000    165.000000     72.000000    120.000000   \n",
       "75%       58.000000      2.000000    170.000000     81.000000    140.000000   \n",
       "max       65.000000      2.000000    184.000000    117.000000    173.000000   \n",
       "\n",
       "              ap_lo   cholesterol          gluc         smoke          alco  \\\n",
       "count  65147.000000  65147.000000  65147.000000  65147.000000  65147.000000   \n",
       "mean      81.043440      1.357576      1.222036      0.086942      0.052527   \n",
       "std        8.809493      0.674307      0.568265      0.281752      0.223090   \n",
       "min       60.000000      1.000000      1.000000      0.000000      0.000000   \n",
       "25%       80.000000      1.000000      1.000000      0.000000      0.000000   \n",
       "50%       80.000000      1.000000      1.000000      0.000000      0.000000   \n",
       "75%       90.000000      1.000000      1.000000      0.000000      0.000000   \n",
       "max      110.000000      3.000000      3.000000      1.000000      1.000000   \n",
       "\n",
       "             active        cardio  \n",
       "count  65147.000000  65147.000000  \n",
       "mean       0.804151      0.489324  \n",
       "std        0.396856      0.499890  \n",
       "min        0.000000      0.000000  \n",
       "25%        1.000000      0.000000  \n",
       "50%        1.000000      0.000000  \n",
       "75%        1.000000      1.000000  \n",
       "max        1.000000      1.000000  "
      ]
     },
     "execution_count": 76,
     "metadata": {},
     "output_type": "execute_result"
    }
   ],
   "source": [
    "df.describe()"
   ]
  },
  {
   "cell_type": "code",
   "execution_count": 77,
   "metadata": {},
   "outputs": [
    {
     "data": {
      "text/html": [
       "<div>\n",
       "<style scoped>\n",
       "    .dataframe tbody tr th:only-of-type {\n",
       "        vertical-align: middle;\n",
       "    }\n",
       "\n",
       "    .dataframe tbody tr th {\n",
       "        vertical-align: top;\n",
       "    }\n",
       "\n",
       "    .dataframe thead th {\n",
       "        text-align: right;\n",
       "    }\n",
       "</style>\n",
       "<table border=\"1\" class=\"dataframe\">\n",
       "  <thead>\n",
       "    <tr style=\"text-align: right;\">\n",
       "      <th></th>\n",
       "      <th>age</th>\n",
       "      <th>gender</th>\n",
       "      <th>height</th>\n",
       "      <th>weight</th>\n",
       "      <th>ap_hi</th>\n",
       "      <th>ap_lo</th>\n",
       "      <th>cholesterol</th>\n",
       "      <th>gluc</th>\n",
       "      <th>smoke</th>\n",
       "      <th>alco</th>\n",
       "      <th>active</th>\n",
       "      <th>cardio</th>\n",
       "    </tr>\n",
       "  </thead>\n",
       "  <tbody>\n",
       "    <tr>\n",
       "      <th>count</th>\n",
       "      <td>65147.000000</td>\n",
       "      <td>65147.000000</td>\n",
       "      <td>65147.000000</td>\n",
       "      <td>65147.000000</td>\n",
       "      <td>65147.000000</td>\n",
       "      <td>65147.000000</td>\n",
       "      <td>65147.000000</td>\n",
       "      <td>65147.000000</td>\n",
       "      <td>65147.000000</td>\n",
       "      <td>65147.000000</td>\n",
       "      <td>65147.000000</td>\n",
       "      <td>65147.000000</td>\n",
       "    </tr>\n",
       "    <tr>\n",
       "      <th>mean</th>\n",
       "      <td>53.310682</td>\n",
       "      <td>1.347645</td>\n",
       "      <td>164.471887</td>\n",
       "      <td>73.710447</td>\n",
       "      <td>125.873993</td>\n",
       "      <td>81.043440</td>\n",
       "      <td>1.357576</td>\n",
       "      <td>1.222036</td>\n",
       "      <td>0.086942</td>\n",
       "      <td>0.052527</td>\n",
       "      <td>0.804151</td>\n",
       "      <td>0.489324</td>\n",
       "    </tr>\n",
       "    <tr>\n",
       "      <th>std</th>\n",
       "      <td>6.758899</td>\n",
       "      <td>0.476226</td>\n",
       "      <td>7.293385</td>\n",
       "      <td>12.836057</td>\n",
       "      <td>15.029385</td>\n",
       "      <td>8.809493</td>\n",
       "      <td>0.674307</td>\n",
       "      <td>0.568265</td>\n",
       "      <td>0.281752</td>\n",
       "      <td>0.223090</td>\n",
       "      <td>0.396856</td>\n",
       "      <td>0.499890</td>\n",
       "    </tr>\n",
       "    <tr>\n",
       "      <th>min</th>\n",
       "      <td>30.000000</td>\n",
       "      <td>1.000000</td>\n",
       "      <td>147.000000</td>\n",
       "      <td>48.000000</td>\n",
       "      <td>90.000000</td>\n",
       "      <td>60.000000</td>\n",
       "      <td>1.000000</td>\n",
       "      <td>1.000000</td>\n",
       "      <td>0.000000</td>\n",
       "      <td>0.000000</td>\n",
       "      <td>0.000000</td>\n",
       "      <td>0.000000</td>\n",
       "    </tr>\n",
       "    <tr>\n",
       "      <th>25%</th>\n",
       "      <td>48.000000</td>\n",
       "      <td>1.000000</td>\n",
       "      <td>159.000000</td>\n",
       "      <td>65.000000</td>\n",
       "      <td>120.000000</td>\n",
       "      <td>80.000000</td>\n",
       "      <td>1.000000</td>\n",
       "      <td>1.000000</td>\n",
       "      <td>0.000000</td>\n",
       "      <td>0.000000</td>\n",
       "      <td>1.000000</td>\n",
       "      <td>0.000000</td>\n",
       "    </tr>\n",
       "    <tr>\n",
       "      <th>50%</th>\n",
       "      <td>54.000000</td>\n",
       "      <td>1.000000</td>\n",
       "      <td>165.000000</td>\n",
       "      <td>72.000000</td>\n",
       "      <td>120.000000</td>\n",
       "      <td>80.000000</td>\n",
       "      <td>1.000000</td>\n",
       "      <td>1.000000</td>\n",
       "      <td>0.000000</td>\n",
       "      <td>0.000000</td>\n",
       "      <td>1.000000</td>\n",
       "      <td>0.000000</td>\n",
       "    </tr>\n",
       "    <tr>\n",
       "      <th>75%</th>\n",
       "      <td>58.000000</td>\n",
       "      <td>2.000000</td>\n",
       "      <td>170.000000</td>\n",
       "      <td>81.000000</td>\n",
       "      <td>140.000000</td>\n",
       "      <td>90.000000</td>\n",
       "      <td>1.000000</td>\n",
       "      <td>1.000000</td>\n",
       "      <td>0.000000</td>\n",
       "      <td>0.000000</td>\n",
       "      <td>1.000000</td>\n",
       "      <td>1.000000</td>\n",
       "    </tr>\n",
       "    <tr>\n",
       "      <th>max</th>\n",
       "      <td>65.000000</td>\n",
       "      <td>2.000000</td>\n",
       "      <td>184.000000</td>\n",
       "      <td>117.000000</td>\n",
       "      <td>173.000000</td>\n",
       "      <td>110.000000</td>\n",
       "      <td>3.000000</td>\n",
       "      <td>3.000000</td>\n",
       "      <td>1.000000</td>\n",
       "      <td>1.000000</td>\n",
       "      <td>1.000000</td>\n",
       "      <td>1.000000</td>\n",
       "    </tr>\n",
       "  </tbody>\n",
       "</table>\n",
       "</div>"
      ],
      "text/plain": [
       "                age        gender        height        weight         ap_hi  \\\n",
       "count  65147.000000  65147.000000  65147.000000  65147.000000  65147.000000   \n",
       "mean      53.310682      1.347645    164.471887     73.710447    125.873993   \n",
       "std        6.758899      0.476226      7.293385     12.836057     15.029385   \n",
       "min       30.000000      1.000000    147.000000     48.000000     90.000000   \n",
       "25%       48.000000      1.000000    159.000000     65.000000    120.000000   \n",
       "50%       54.000000      1.000000    165.000000     72.000000    120.000000   \n",
       "75%       58.000000      2.000000    170.000000     81.000000    140.000000   \n",
       "max       65.000000      2.000000    184.000000    117.000000    173.000000   \n",
       "\n",
       "              ap_lo   cholesterol          gluc         smoke          alco  \\\n",
       "count  65147.000000  65147.000000  65147.000000  65147.000000  65147.000000   \n",
       "mean      81.043440      1.357576      1.222036      0.086942      0.052527   \n",
       "std        8.809493      0.674307      0.568265      0.281752      0.223090   \n",
       "min       60.000000      1.000000      1.000000      0.000000      0.000000   \n",
       "25%       80.000000      1.000000      1.000000      0.000000      0.000000   \n",
       "50%       80.000000      1.000000      1.000000      0.000000      0.000000   \n",
       "75%       90.000000      1.000000      1.000000      0.000000      0.000000   \n",
       "max      110.000000      3.000000      3.000000      1.000000      1.000000   \n",
       "\n",
       "             active        cardio  \n",
       "count  65147.000000  65147.000000  \n",
       "mean       0.804151      0.489324  \n",
       "std        0.396856      0.499890  \n",
       "min        0.000000      0.000000  \n",
       "25%        1.000000      0.000000  \n",
       "50%        1.000000      0.000000  \n",
       "75%        1.000000      1.000000  \n",
       "max        1.000000      1.000000  "
      ]
     },
     "execution_count": 77,
     "metadata": {},
     "output_type": "execute_result"
    }
   ],
   "source": [
    "df.describe()"
   ]
  },
  {
   "cell_type": "code",
   "execution_count": 78,
   "metadata": {},
   "outputs": [
    {
     "data": {
      "image/png": "[encoded data removed]",
      "text/plain": [
       "<Figure size 432x288 with 1 Axes>"
      ]
     },
     "metadata": {
      "needs_background": "light"
     },
     "output_type": "display_data"
    }
   ],
   "source": [
    "X = df[['age','height', 'weight', 'ap_hi', 'ap_lo']]\n",
    "#sns.boxplot(x = 'variable',y = 'value',data = X.melt())\n",
    "X_m = MinMaxScaler().fit_transform(X)\n",
    "plt.figure()\n",
    "plt.boxplot(X_m)\n",
    "plt.show()\n",
    "blood_pressure = df.loc[:,['age','height', 'weight','ap_lo','ap_hi']]"
   ]
  },
  {
   "cell_type": "markdown",
   "metadata": {},
   "source": [
    "Data is now cleaned"
   ]
  },
  {
   "cell_type": "markdown",
   "metadata": {},
   "source": [
    "## 2. Exploratory Data Analysis (EDA)"
   ]
  },
  {
   "cell_type": "code",
   "execution_count": 79,
   "metadata": {},
   "outputs": [
    {
     "name": "stdout",
     "output_type": "stream",
     "text": [
      "Number of people without and with CardioVascular Disease\n"
     ]
    },
    {
     "data": {
      "image/png": "[encoded data removed]",
      "text/plain": [
       "<Figure size 432x288 with 1 Axes>"
      ]
     },
     "metadata": {
      "needs_background": "light"
     },
     "output_type": "display_data"
    }
   ],
   "source": [
    "# checking if target are balanced\n",
    "import seaborn as sns\n",
    "df.groupby(\"cardio\").count()\n",
    "#traindata[[\"cardio\",\"height\"]].groupby(\"Outcome\").count()\n",
    "sns.countplot(x=\"cardio\", data=df, palette=\"Set1\")\n",
    "print ('Number of people without and with CardioVascular Disease')"
   ]
  },
  {
   "cell_type": "code",
   "execution_count": 80,
   "metadata": {},
   "outputs": [
    {
     "name": "stdout",
     "output_type": "stream",
     "text": [
      "Number of people based on gender\n"
     ]
    },
    {
     "data": {
      "image/png": "[encoded data removed]",
      "text/plain": [
       "<Figure size 432x288 with 1 Axes>"
      ]
     },
     "metadata": {
      "needs_background": "light"
     },
     "output_type": "display_data"
    }
   ],
   "source": [
    "# checking dataset of gender\n",
    "import seaborn as sns\n",
    "df.groupby(\"gender\").count()\n",
    "#traindata[[\"cardio\",\"height\"]].groupby(\"Outcome\").count()\n",
    "sns.countplot(x=\"gender\", data=df, palette=\"Set1\")\n",
    "print ('Number of people based on gender')"
   ]
  },
  {
   "cell_type": "markdown",
   "metadata": {},
   "source": [
    "#### The graph shows that the number of female in the dataset is much more than male."
   ]
  },
  {
   "cell_type": "code",
   "execution_count": 81,
   "metadata": {},
   "outputs": [
    {
     "name": "stdout",
     "output_type": "stream",
     "text": [
      "Visualize gender with CardioVascular Disease\n"
     ]
    },
    {
     "data": {
      "image/png": "[encoded data removed]",
      "text/plain": [
       "<Figure size 432x288 with 1 Axes>"
      ]
     },
     "metadata": {
      "needs_background": "light"
     },
     "output_type": "display_data"
    }
   ],
   "source": [
    "# visualize cardio with gender\n",
    "sns.countplot(x='cardio',data=df,hue='gender',palette='rainbow')\n",
    "print ('Visualize gender with CardioVascular Disease')"
   ]
  },
  {
   "cell_type": "code",
   "execution_count": 82,
   "metadata": {},
   "outputs": [
    {
     "data": {
      "image/png": "[encoded data removed]",
      "text/plain": [
       "<Figure size 792x576 with 1 Axes>"
      ]
     },
     "metadata": {
      "needs_background": "light"
     },
     "output_type": "display_data"
    }
   ],
   "source": [
    "# Explore at what age does the number of people with CVD exceed the number of people without CVD\n",
    "from matplotlib import rcParams\n",
    "rcParams['figure.figsize'] = 11, 8\n",
    "sns.countplot(x='age', hue='cardio', data = df, palette=\"Set1\");"
   ]
  },
  {
   "cell_type": "markdown",
   "metadata": {},
   "source": [
    "It can be observed that people over 55 years of age are more exposed to CVD"
   ]
  },
  {
   "cell_type": "code",
   "execution_count": 83,
   "metadata": {},
   "outputs": [
    {
     "data": {
      "image/png": "[encoded data removed]",
      "text/plain": [
       "<Figure size 762.375x360 with 2 Axes>"
      ]
     },
     "metadata": {
      "needs_background": "light"
     },
     "output_type": "display_data"
    }
   ],
   "source": [
    "#Bivariate analysis - split categorical variables by target class:\n",
    "df_long = pd.melt(df, id_vars=['cardio'], value_vars=['gender','cholesterol','gluc', 'smoke', 'alco', 'active'])\n",
    "sns.catplot(x=\"variable\", hue=\"value\", col=\"cardio\",\n",
    "                data=df_long, kind=\"count\");"
   ]
  },
  {
   "cell_type": "markdown",
   "metadata": {},
   "source": [
    "It can be observed that patients with CVD have higher cholesterol and blood glucose level.  They are likely to be less active."
   ]
  },
  {
   "cell_type": "code",
   "execution_count": 84,
   "metadata": {},
   "outputs": [
    {
     "data": {
      "image/png": "[encoded data removed]",
      "text/plain": [
       "<Figure size 792x648 with 2 Axes>"
      ]
     },
     "metadata": {
      "needs_background": "light"
     },
     "output_type": "display_data"
    }
   ],
   "source": [
    "# Multivariate analysis - It might be useful to consider correlation matrix\n",
    "corr = df.corr()\n",
    "cmap = sns.diverging_palette(220, 10, as_cmap=True)\n",
    "# Generate a mask for the upper triangle\n",
    "mask = np.zeros_like(corr, dtype=np.bool)\n",
    "mask[np.triu_indices_from(mask)] = True\n",
    "\n",
    "# Set up the matplotlib figure\n",
    "f, ax = plt.subplots(figsize=(11, 9))\n",
    "# Draw the heatmap with the mask and correct aspect ratio\n",
    "sns.heatmap(corr, mask=mask, cmap=cmap, vmax=.3, center=0,annot = True,\n",
    "            square=True, linewidths=.5, cbar_kws={\"shrink\": .5});"
   ]
  },
  {
   "cell_type": "markdown",
   "metadata": {},
   "source": [
    "## 3. Feature Engineering"
   ]
  },
  {
   "cell_type": "markdown",
   "metadata": {},
   "source": [
    "### a. Categorizing bmi(Body mass index) \n",
    "https://www.medicalnewstoday.com/articles/323622.php"
   ]
  },
  {
   "cell_type": "code",
   "execution_count": 85,
   "metadata": {},
   "outputs": [],
   "source": [
    "bmi = (df.weight/df.height/df.height)*10000\n",
    "\n",
    "cat_bmi = []\n",
    "for n in bmi:\n",
    "    if n <= 18.5:              #Underweight\n",
    "        val = 2\n",
    "    elif n> 18.5 and n<25:     #Healthy\n",
    "        val = 1\n",
    "    elif n>= 25 and n<30:      #Overweight\n",
    "        val = 3\n",
    "    else:\n",
    "        val = 4                #Obese\n",
    "    cat_bmi.append(val)\n",
    "    \n",
    "df['bmi'] = cat_bmi"
   ]
  },
  {
   "cell_type": "code",
   "execution_count": 86,
   "metadata": {},
   "outputs": [
    {
     "name": "stdout",
     "output_type": "stream",
     "text": [
      "Visualize Body Mass Index with CardioVascular Disease\n"
     ]
    },
    {
     "data": {
      "image/png": "[encoded data removed]",
      "text/plain": [
       "<Figure size 792x576 with 1 Axes>"
      ]
     },
     "metadata": {
      "needs_background": "light"
     },
     "output_type": "display_data"
    }
   ],
   "source": [
    "# visualize cardio with bmi\n",
    "sns.countplot(x='cardio',data=df,hue='bmi',palette='rainbow')\n",
    "print ('Visualize Body Mass Index with CardioVascular Disease')"
   ]
  },
  {
   "cell_type": "markdown",
   "metadata": {},
   "source": [
    "#### The figure shows that obese person tends to have higher risk of cardiovascular disease"
   ]
  },
  {
   "cell_type": "markdown",
   "metadata": {},
   "source": [
    "### b. Categorizing blood pressure \n",
    "https://www.webmd.com/hypertension-high-blood-pressure/guide/diastolic-and-systolic-blood-pressure-know-your-numbers#1"
   ]
  },
  {
   "cell_type": "code",
   "execution_count": 87,
   "metadata": {},
   "outputs": [],
   "source": [
    "bpc = []\n",
    "for n,v in zip(df.ap_hi, df.ap_lo):\n",
    "    if n < 120 and v < 80:\n",
    "        val = 1                                 # Normal\n",
    "    elif n >= 120 and n < 130 and v < 80:\n",
    "        val = 2                                 # Elevated\n",
    "    elif n >= 130 and n < 140 or v >= 80 and n < 90:\n",
    "        val =3                                  # High blood pressure stage 1(Hypertension)\n",
    "    elif n >= 140 and n < 180 or v >= 90 and v < 120:\n",
    "        val = 4                                 # High blood pressure stage 2(Hypertension)\n",
    "    elif n >= 180 or v >= 120:\n",
    "        val = 5                                 # Hyertensive Crisis (see doctor immediately)\n",
    "    bpc.append(val)\n",
    "\n",
    "df['bpc'] = bpc"
   ]
  },
  {
   "cell_type": "code",
   "execution_count": 88,
   "metadata": {},
   "outputs": [
    {
     "name": "stdout",
     "output_type": "stream",
     "text": [
      "Visualize Blood Pressure Category with CardioVascular Disease\n"
     ]
    },
    {
     "data": {
      "image/png": "[encoded data removed]",
      "text/plain": [
       "<Figure size 792x576 with 1 Axes>"
      ]
     },
     "metadata": {
      "needs_background": "light"
     },
     "output_type": "display_data"
    }
   ],
   "source": [
    "# visualize cardio with bmi\n",
    "sns.countplot(x='cardio',data=df,hue='bmi',palette='rainbow')\n",
    "print ('Visualize Blood Pressure Category with CardioVascular Disease')"
   ]
  },
  {
   "cell_type": "markdown",
   "metadata": {},
   "source": [
    "#### The figure shows that normal blood pressure correlate with lower CVD while hypertensive correlate with higher CVD"
   ]
  },
  {
   "cell_type": "code",
   "execution_count": 89,
   "metadata": {},
   "outputs": [
    {
     "data": {
      "text/html": [
       "<div>\n",
       "<style scoped>\n",
       "    .dataframe tbody tr th:only-of-type {\n",
       "        vertical-align: middle;\n",
       "    }\n",
       "\n",
       "    .dataframe tbody tr th {\n",
       "        vertical-align: top;\n",
       "    }\n",
       "\n",
       "    .dataframe thead th {\n",
       "        text-align: right;\n",
       "    }\n",
       "</style>\n",
       "<table border=\"1\" class=\"dataframe\">\n",
       "  <thead>\n",
       "    <tr style=\"text-align: right;\">\n",
       "      <th></th>\n",
       "      <th>age</th>\n",
       "      <th>gender</th>\n",
       "      <th>height</th>\n",
       "      <th>weight</th>\n",
       "      <th>ap_hi</th>\n",
       "      <th>ap_lo</th>\n",
       "      <th>cholesterol</th>\n",
       "      <th>gluc</th>\n",
       "      <th>smoke</th>\n",
       "      <th>alco</th>\n",
       "      <th>active</th>\n",
       "      <th>cardio</th>\n",
       "      <th>bmi</th>\n",
       "      <th>bpc</th>\n",
       "    </tr>\n",
       "  </thead>\n",
       "  <tbody>\n",
       "    <tr>\n",
       "      <th>count</th>\n",
       "      <td>65147.000000</td>\n",
       "      <td>65147.000000</td>\n",
       "      <td>65147.000000</td>\n",
       "      <td>65147.000000</td>\n",
       "      <td>65147.000000</td>\n",
       "      <td>65147.000000</td>\n",
       "      <td>65147.000000</td>\n",
       "      <td>65147.000000</td>\n",
       "      <td>65147.000000</td>\n",
       "      <td>65147.000000</td>\n",
       "      <td>65147.000000</td>\n",
       "      <td>65147.000000</td>\n",
       "      <td>65147.000000</td>\n",
       "      <td>65147.000000</td>\n",
       "    </tr>\n",
       "    <tr>\n",
       "      <th>mean</th>\n",
       "      <td>53.310682</td>\n",
       "      <td>1.347645</td>\n",
       "      <td>164.471887</td>\n",
       "      <td>73.710447</td>\n",
       "      <td>125.873993</td>\n",
       "      <td>81.043440</td>\n",
       "      <td>1.357576</td>\n",
       "      <td>1.222036</td>\n",
       "      <td>0.086942</td>\n",
       "      <td>0.052527</td>\n",
       "      <td>0.804151</td>\n",
       "      <td>0.489324</td>\n",
       "      <td>2.498089</td>\n",
       "      <td>2.934241</td>\n",
       "    </tr>\n",
       "    <tr>\n",
       "      <th>std</th>\n",
       "      <td>6.758899</td>\n",
       "      <td>0.476226</td>\n",
       "      <td>7.293385</td>\n",
       "      <td>12.836057</td>\n",
       "      <td>15.029385</td>\n",
       "      <td>8.809493</td>\n",
       "      <td>0.674307</td>\n",
       "      <td>0.568265</td>\n",
       "      <td>0.281752</td>\n",
       "      <td>0.223090</td>\n",
       "      <td>0.396856</td>\n",
       "      <td>0.499890</td>\n",
       "      <td>1.226132</td>\n",
       "      <td>1.206048</td>\n",
       "    </tr>\n",
       "    <tr>\n",
       "      <th>min</th>\n",
       "      <td>30.000000</td>\n",
       "      <td>1.000000</td>\n",
       "      <td>147.000000</td>\n",
       "      <td>48.000000</td>\n",
       "      <td>90.000000</td>\n",
       "      <td>60.000000</td>\n",
       "      <td>1.000000</td>\n",
       "      <td>1.000000</td>\n",
       "      <td>0.000000</td>\n",
       "      <td>0.000000</td>\n",
       "      <td>0.000000</td>\n",
       "      <td>0.000000</td>\n",
       "      <td>1.000000</td>\n",
       "      <td>1.000000</td>\n",
       "    </tr>\n",
       "    <tr>\n",
       "      <th>25%</th>\n",
       "      <td>48.000000</td>\n",
       "      <td>1.000000</td>\n",
       "      <td>159.000000</td>\n",
       "      <td>65.000000</td>\n",
       "      <td>120.000000</td>\n",
       "      <td>80.000000</td>\n",
       "      <td>1.000000</td>\n",
       "      <td>1.000000</td>\n",
       "      <td>0.000000</td>\n",
       "      <td>0.000000</td>\n",
       "      <td>1.000000</td>\n",
       "      <td>0.000000</td>\n",
       "      <td>1.000000</td>\n",
       "      <td>2.000000</td>\n",
       "    </tr>\n",
       "    <tr>\n",
       "      <th>50%</th>\n",
       "      <td>54.000000</td>\n",
       "      <td>1.000000</td>\n",
       "      <td>165.000000</td>\n",
       "      <td>72.000000</td>\n",
       "      <td>120.000000</td>\n",
       "      <td>80.000000</td>\n",
       "      <td>1.000000</td>\n",
       "      <td>1.000000</td>\n",
       "      <td>0.000000</td>\n",
       "      <td>0.000000</td>\n",
       "      <td>1.000000</td>\n",
       "      <td>0.000000</td>\n",
       "      <td>3.000000</td>\n",
       "      <td>3.000000</td>\n",
       "    </tr>\n",
       "    <tr>\n",
       "      <th>75%</th>\n",
       "      <td>58.000000</td>\n",
       "      <td>2.000000</td>\n",
       "      <td>170.000000</td>\n",
       "      <td>81.000000</td>\n",
       "      <td>140.000000</td>\n",
       "      <td>90.000000</td>\n",
       "      <td>1.000000</td>\n",
       "      <td>1.000000</td>\n",
       "      <td>0.000000</td>\n",
       "      <td>0.000000</td>\n",
       "      <td>1.000000</td>\n",
       "      <td>1.000000</td>\n",
       "      <td>4.000000</td>\n",
       "      <td>4.000000</td>\n",
       "    </tr>\n",
       "    <tr>\n",
       "      <th>max</th>\n",
       "      <td>65.000000</td>\n",
       "      <td>2.000000</td>\n",
       "      <td>184.000000</td>\n",
       "      <td>117.000000</td>\n",
       "      <td>173.000000</td>\n",
       "      <td>110.000000</td>\n",
       "      <td>3.000000</td>\n",
       "      <td>3.000000</td>\n",
       "      <td>1.000000</td>\n",
       "      <td>1.000000</td>\n",
       "      <td>1.000000</td>\n",
       "      <td>1.000000</td>\n",
       "      <td>4.000000</td>\n",
       "      <td>4.000000</td>\n",
       "    </tr>\n",
       "  </tbody>\n",
       "</table>\n",
       "</div>"
      ],
      "text/plain": [
       "                age        gender        height        weight         ap_hi  \\\n",
       "count  65147.000000  65147.000000  65147.000000  65147.000000  65147.000000   \n",
       "mean      53.310682      1.347645    164.471887     73.710447    125.873993   \n",
       "std        6.758899      0.476226      7.293385     12.836057     15.029385   \n",
       "min       30.000000      1.000000    147.000000     48.000000     90.000000   \n",
       "25%       48.000000      1.000000    159.000000     65.000000    120.000000   \n",
       "50%       54.000000      1.000000    165.000000     72.000000    120.000000   \n",
       "75%       58.000000      2.000000    170.000000     81.000000    140.000000   \n",
       "max       65.000000      2.000000    184.000000    117.000000    173.000000   \n",
       "\n",
       "              ap_lo   cholesterol          gluc         smoke          alco  \\\n",
       "count  65147.000000  65147.000000  65147.000000  65147.000000  65147.000000   \n",
       "mean      81.043440      1.357576      1.222036      0.086942      0.052527   \n",
       "std        8.809493      0.674307      0.568265      0.281752      0.223090   \n",
       "min       60.000000      1.000000      1.000000      0.000000      0.000000   \n",
       "25%       80.000000      1.000000      1.000000      0.000000      0.000000   \n",
       "50%       80.000000      1.000000      1.000000      0.000000      0.000000   \n",
       "75%       90.000000      1.000000      1.000000      0.000000      0.000000   \n",
       "max      110.000000      3.000000      3.000000      1.000000      1.000000   \n",
       "\n",
       "             active        cardio           bmi           bpc  \n",
       "count  65147.000000  65147.000000  65147.000000  65147.000000  \n",
       "mean       0.804151      0.489324      2.498089      2.934241  \n",
       "std        0.396856      0.499890      1.226132      1.206048  \n",
       "min        0.000000      0.000000      1.000000      1.000000  \n",
       "25%        1.000000      0.000000      1.000000      2.000000  \n",
       "50%        1.000000      0.000000      3.000000      3.000000  \n",
       "75%        1.000000      1.000000      4.000000      4.000000  \n",
       "max        1.000000      1.000000      4.000000      4.000000  "
      ]
     },
     "execution_count": 89,
     "metadata": {},
     "output_type": "execute_result"
    }
   ],
   "source": [
    "df.describe()"
   ]
  },
  {
   "cell_type": "code",
   "execution_count": 90,
   "metadata": {},
   "outputs": [
    {
     "data": {
      "text/html": [
       "<div>\n",
       "<style scoped>\n",
       "    .dataframe tbody tr th:only-of-type {\n",
       "        vertical-align: middle;\n",
       "    }\n",
       "\n",
       "    .dataframe tbody tr th {\n",
       "        vertical-align: top;\n",
       "    }\n",
       "\n",
       "    .dataframe thead th {\n",
       "        text-align: right;\n",
       "    }\n",
       "</style>\n",
       "<table border=\"1\" class=\"dataframe\">\n",
       "  <thead>\n",
       "    <tr style=\"text-align: right;\">\n",
       "      <th></th>\n",
       "      <th>age</th>\n",
       "      <th>gender</th>\n",
       "      <th>height</th>\n",
       "      <th>weight</th>\n",
       "      <th>ap_hi</th>\n",
       "      <th>ap_lo</th>\n",
       "      <th>cholesterol</th>\n",
       "      <th>gluc</th>\n",
       "      <th>smoke</th>\n",
       "      <th>alco</th>\n",
       "      <th>active</th>\n",
       "      <th>bmi</th>\n",
       "      <th>bpc</th>\n",
       "    </tr>\n",
       "  </thead>\n",
       "  <tbody>\n",
       "    <tr>\n",
       "      <th>0</th>\n",
       "      <td>50</td>\n",
       "      <td>2</td>\n",
       "      <td>168</td>\n",
       "      <td>62.0</td>\n",
       "      <td>110</td>\n",
       "      <td>80</td>\n",
       "      <td>1</td>\n",
       "      <td>1</td>\n",
       "      <td>0</td>\n",
       "      <td>0</td>\n",
       "      <td>1</td>\n",
       "      <td>1</td>\n",
       "      <td>1</td>\n",
       "    </tr>\n",
       "    <tr>\n",
       "      <th>1</th>\n",
       "      <td>55</td>\n",
       "      <td>1</td>\n",
       "      <td>156</td>\n",
       "      <td>85.0</td>\n",
       "      <td>140</td>\n",
       "      <td>90</td>\n",
       "      <td>3</td>\n",
       "      <td>1</td>\n",
       "      <td>0</td>\n",
       "      <td>0</td>\n",
       "      <td>1</td>\n",
       "      <td>4</td>\n",
       "      <td>4</td>\n",
       "    </tr>\n",
       "    <tr>\n",
       "      <th>2</th>\n",
       "      <td>52</td>\n",
       "      <td>1</td>\n",
       "      <td>165</td>\n",
       "      <td>64.0</td>\n",
       "      <td>130</td>\n",
       "      <td>70</td>\n",
       "      <td>3</td>\n",
       "      <td>1</td>\n",
       "      <td>0</td>\n",
       "      <td>0</td>\n",
       "      <td>0</td>\n",
       "      <td>1</td>\n",
       "      <td>3</td>\n",
       "    </tr>\n",
       "    <tr>\n",
       "      <th>3</th>\n",
       "      <td>48</td>\n",
       "      <td>2</td>\n",
       "      <td>169</td>\n",
       "      <td>82.0</td>\n",
       "      <td>150</td>\n",
       "      <td>100</td>\n",
       "      <td>1</td>\n",
       "      <td>1</td>\n",
       "      <td>0</td>\n",
       "      <td>0</td>\n",
       "      <td>1</td>\n",
       "      <td>3</td>\n",
       "      <td>4</td>\n",
       "    </tr>\n",
       "    <tr>\n",
       "      <th>4</th>\n",
       "      <td>48</td>\n",
       "      <td>1</td>\n",
       "      <td>156</td>\n",
       "      <td>56.0</td>\n",
       "      <td>100</td>\n",
       "      <td>60</td>\n",
       "      <td>1</td>\n",
       "      <td>1</td>\n",
       "      <td>0</td>\n",
       "      <td>0</td>\n",
       "      <td>0</td>\n",
       "      <td>1</td>\n",
       "      <td>1</td>\n",
       "    </tr>\n",
       "  </tbody>\n",
       "</table>\n",
       "</div>"
      ],
      "text/plain": [
       "   age  gender  height  weight  ap_hi  ap_lo  cholesterol  gluc  smoke  alco  \\\n",
       "0   50       2     168    62.0    110     80            1     1      0     0   \n",
       "1   55       1     156    85.0    140     90            3     1      0     0   \n",
       "2   52       1     165    64.0    130     70            3     1      0     0   \n",
       "3   48       2     169    82.0    150    100            1     1      0     0   \n",
       "4   48       1     156    56.0    100     60            1     1      0     0   \n",
       "\n",
       "   active  bmi  bpc  \n",
       "0       1    1    1  \n",
       "1       1    4    4  \n",
       "2       0    1    3  \n",
       "3       1    3    4  \n",
       "4       0    1    1  "
      ]
     },
     "execution_count": 90,
     "metadata": {},
     "output_type": "execute_result"
    }
   ],
   "source": [
    "dfy = df[\"cardio\"]\n",
    "dfx = df\n",
    "dfx.drop([\"cardio\"], axis=1, inplace=True)\n",
    "dfx.head()"
   ]
  },
  {
   "cell_type": "markdown",
   "metadata": {},
   "source": [
    "## 4. Exploring Various Classifiers"
   ]
  },
  {
   "cell_type": "markdown",
   "metadata": {},
   "source": [
    "### a. Train/Test Split"
   ]
  },
  {
   "cell_type": "code",
   "execution_count": 91,
   "metadata": {},
   "outputs": [],
   "source": [
    "from sklearn.model_selection import train_test_split\n",
    "x_train, x_test, y_train, y_test = train_test_split(dfx,dfy,test_size=0.25,random_state=42)"
   ]
  },
  {
   "cell_type": "code",
   "execution_count": 92,
   "metadata": {},
   "outputs": [],
   "source": [
    "# Feature Scaling, required by SVM and KNN algorithms\n",
    "# MinMaxScaler rescales the data set such that all feature values are in the range [0, 1]. \n",
    "from sklearn.preprocessing import MinMaxScaler\n",
    "\n",
    "mms = MinMaxScaler()\n",
    "x_train = mms.fit_transform(x_train)\n",
    "x_test = mms.transform(x_test)"
   ]
  },
  {
   "cell_type": "code",
   "execution_count": 93,
   "metadata": {},
   "outputs": [
    {
     "name": "stdout",
     "output_type": "stream",
     "text": [
      "(48860, 13) (48860,) (16287, 13) (16287,)\n"
     ]
    }
   ],
   "source": [
    "print (x_train.shape, y_train.shape, x_test.shape, y_test.shape)"
   ]
  },
  {
   "cell_type": "markdown",
   "metadata": {},
   "source": [
    "### b. Model Comparison"
   ]
  },
  {
   "cell_type": "code",
   "execution_count": 92,
   "metadata": {},
   "outputs": [
    {
     "name": "stdout",
     "output_type": "stream",
     "text": [
      "Processing Naive Bayes\n",
      "Processing SVM\n",
      "Processing Logistic Regression\n",
      "Processing Decision Tree\n",
      "Processing Random Forest\n",
      "Processing KNeighborst\n",
      "Processing AdaBoost\n",
      "Processing Extra Trees\n",
      "Processing Gradient Boosting\n",
      "Processing Extreme Gradient Boosting\n"
     ]
    }
   ],
   "source": [
    "from sklearn.naive_bayes import GaussianNB\n",
    "from sklearn.svm import SVC\n",
    "from sklearn.linear_model import LogisticRegression\n",
    "from sklearn.tree import DecisionTreeClassifier\n",
    "from sklearn.ensemble import RandomForestClassifier\n",
    "from sklearn.neighbors import KNeighborsClassifier\n",
    "from sklearn.ensemble import AdaBoostClassifier\n",
    "from sklearn.ensemble import ExtraTreesClassifier\n",
    "from sklearn.ensemble import GradientBoostingClassifier\n",
    "from xgboost import XGBClassifier\n",
    "import time\n",
    "import csv\n",
    "from sklearn.metrics import accuracy_score\n",
    "from sklearn.metrics import f1_score\n",
    "\n",
    "# 10 different algorithms explored\n",
    "nb = GaussianNB()\n",
    "svm = SVC(kernel='linear')\n",
    "lr = LogisticRegression( class_weight=\"balanced\", random_state=42, solver='liblinear', max_iter=10000, C = 1, penalty= 'l2')\n",
    "dt = DecisionTreeClassifier(max_depth=8, min_samples_split=50, min_samples_leaf=50, random_state=13)\n",
    "rf = RandomForestClassifier(n_estimators=100)\n",
    "knn = KNeighborsClassifier(n_neighbors=100)\n",
    "ada = AdaBoostClassifier(n_estimators=100)\n",
    "et = ExtraTreesClassifier(n_estimators = 100)          \n",
    "gb = GradientBoostingClassifier(n_estimators = 100)    \n",
    "xgb = XGBClassifier(n_estimators= 2000, learning_rate=0.01)\n",
    "\n",
    "# define models\n",
    "models = {\"Naive Bayes\" : nb,\n",
    "          \"SVM\" : svm,\n",
    "          \"Logistic Regression\" : lr,\n",
    "          \"Decision Tree\" : dt,\n",
    "          \"Random Forest\" : rf,\n",
    "          \"KNeighborst\" : knn,\n",
    "          \"AdaBoost\" : ada,\n",
    "          \"Extra Trees\" : et,\n",
    "          \"Gradient Boosting\" : gb,\n",
    "          \"Extreme Gradient Boosting\" : xgb}\n",
    "\n",
    "# Open file to write result of various models \n",
    "csvFile = open(\"model_result1.csv\", 'w+', newline='')\n",
    "writer = csv.writer(csvFile)\n",
    "writer.writerow(('Model','Accuracy(train)','Accuracy(test)','F1 Score','Time'))\n",
    "\n",
    "# iterate through all models\n",
    "\n",
    "for key, value in models.items():   \n",
    "    start_time = time.time()\n",
    "    model = value\n",
    "    \n",
    "    # fit & predict training score\n",
    "    model.fit(x_train, y_train)\n",
    "    y_train_predict = model.predict(x_train)\n",
    "    y_test_predict = model.predict(x_test)\n",
    "    \n",
    "    accuracy1 = round(accuracy_score(y_train, y_train_predict), 5)\n",
    "    accuracy2 = round(accuracy_score(y_test, y_test_predict), 5) \n",
    "    accuracy3 = round(f1_score(y_test, y_test_predict), 5)\n",
    "    print ('Processing', key)\n",
    "    end_time = time.time()\n",
    "    elapsed_time = round((end_time - start_time), 5)\n",
    "\n",
    "    # Write result to file\n",
    "    writer.writerow ((key, accuracy1, accuracy2, accuracy3, elapsed_time))\n",
    "\n",
    "### CLOSE CSV FILE\n",
    "csvFile.close()"
   ]
  },
  {
   "cell_type": "markdown",
   "metadata": {},
   "source": [
    "### c. Comparisons of various algorithms"
   ]
  },
  {
   "cell_type": "markdown",
   "metadata": {},
   "source": [
    "#### i. Testing Accuracy"
   ]
  },
  {
   "cell_type": "code",
   "execution_count": 93,
   "metadata": {},
   "outputs": [
    {
     "data": {
      "text/html": [
       "<div>\n",
       "<style scoped>\n",
       "    .dataframe tbody tr th:only-of-type {\n",
       "        vertical-align: middle;\n",
       "    }\n",
       "\n",
       "    .dataframe tbody tr th {\n",
       "        vertical-align: top;\n",
       "    }\n",
       "\n",
       "    .dataframe thead th {\n",
       "        text-align: right;\n",
       "    }\n",
       "</style>\n",
       "<table border=\"1\" class=\"dataframe\">\n",
       "  <thead>\n",
       "    <tr style=\"text-align: right;\">\n",
       "      <th></th>\n",
       "      <th>Accuracy(train)</th>\n",
       "      <th>Accuracy(test)</th>\n",
       "      <th>F1 Score</th>\n",
       "      <th>Time</th>\n",
       "    </tr>\n",
       "    <tr>\n",
       "      <th>Model</th>\n",
       "      <th></th>\n",
       "      <th></th>\n",
       "      <th></th>\n",
       "      <th></th>\n",
       "    </tr>\n",
       "  </thead>\n",
       "  <tbody>\n",
       "    <tr>\n",
       "      <th>Extreme Gradient Boosting</th>\n",
       "      <td>0.73842</td>\n",
       "      <td>0.72469</td>\n",
       "      <td>0.70142</td>\n",
       "      <td>29.75746</td>\n",
       "    </tr>\n",
       "    <tr>\n",
       "      <th>Gradient Boosting</th>\n",
       "      <td>0.73717</td>\n",
       "      <td>0.72444</td>\n",
       "      <td>0.70223</td>\n",
       "      <td>3.03555</td>\n",
       "    </tr>\n",
       "    <tr>\n",
       "      <th>Decision Tree</th>\n",
       "      <td>0.73878</td>\n",
       "      <td>0.72125</td>\n",
       "      <td>0.69938</td>\n",
       "      <td>0.08049</td>\n",
       "    </tr>\n",
       "    <tr>\n",
       "      <th>AdaBoost</th>\n",
       "      <td>0.72972</td>\n",
       "      <td>0.72008</td>\n",
       "      <td>0.68669</td>\n",
       "      <td>2.58600</td>\n",
       "    </tr>\n",
       "    <tr>\n",
       "      <th>Logistic Regression</th>\n",
       "      <td>0.72835</td>\n",
       "      <td>0.71824</td>\n",
       "      <td>0.69506</td>\n",
       "      <td>0.10230</td>\n",
       "    </tr>\n",
       "    <tr>\n",
       "      <th>SVM</th>\n",
       "      <td>0.72583</td>\n",
       "      <td>0.71665</td>\n",
       "      <td>0.67743</td>\n",
       "      <td>52.46618</td>\n",
       "    </tr>\n",
       "    <tr>\n",
       "      <th>Naive Bayes</th>\n",
       "      <td>0.71832</td>\n",
       "      <td>0.71106</td>\n",
       "      <td>0.68099</td>\n",
       "      <td>0.04439</td>\n",
       "    </tr>\n",
       "    <tr>\n",
       "      <th>KNeighborst</th>\n",
       "      <td>0.72603</td>\n",
       "      <td>0.71094</td>\n",
       "      <td>0.67811</td>\n",
       "      <td>25.17822</td>\n",
       "    </tr>\n",
       "    <tr>\n",
       "      <th>Random Forest</th>\n",
       "      <td>0.98721</td>\n",
       "      <td>0.70019</td>\n",
       "      <td>0.68576</td>\n",
       "      <td>5.17517</td>\n",
       "    </tr>\n",
       "    <tr>\n",
       "      <th>Extra Trees</th>\n",
       "      <td>0.98723</td>\n",
       "      <td>0.68146</td>\n",
       "      <td>0.66778</td>\n",
       "      <td>5.69215</td>\n",
       "    </tr>\n",
       "  </tbody>\n",
       "</table>\n",
       "</div>"
      ],
      "text/plain": [
       "                           Accuracy(train)  Accuracy(test)  F1 Score      Time\n",
       "Model                                                                         \n",
       "Extreme Gradient Boosting          0.73842         0.72469   0.70142  29.75746\n",
       "Gradient Boosting                  0.73717         0.72444   0.70223   3.03555\n",
       "Decision Tree                      0.73878         0.72125   0.69938   0.08049\n",
       "AdaBoost                           0.72972         0.72008   0.68669   2.58600\n",
       "Logistic Regression                0.72835         0.71824   0.69506   0.10230\n",
       "SVM                                0.72583         0.71665   0.67743  52.46618\n",
       "Naive Bayes                        0.71832         0.71106   0.68099   0.04439\n",
       "KNeighborst                        0.72603         0.71094   0.67811  25.17822\n",
       "Random Forest                      0.98721         0.70019   0.68576   5.17517\n",
       "Extra Trees                        0.98723         0.68146   0.66778   5.69215"
      ]
     },
     "execution_count": 93,
     "metadata": {},
     "output_type": "execute_result"
    }
   ],
   "source": [
    "# Read result file from CSV\n",
    "result = pd.read_csv(\"model_result1.csv\")\n",
    "\n",
    "# sort by testing accuracy\n",
    "result.sort_values(by=[\"Accuracy(test)\"], axis=0 ,ascending=False, inplace=True)\n",
    "result.set_index('Model')"
   ]
  },
  {
   "cell_type": "code",
   "execution_count": 94,
   "metadata": {},
   "outputs": [
    {
     "name": "stdout",
     "output_type": "stream",
     "text": [
      "Graph showing the Testing Accuracy for the various models\n"
     ]
    },
    {
     "data": {
      "image/png": "[encoded data removed]",
      "text/plain": [
       "<Figure size 720x360 with 1 Axes>"
      ]
     },
     "metadata": {
      "needs_background": "light"
     },
     "output_type": "display_data"
    }
   ],
   "source": [
    "# Plot testing accuracy for various models\n",
    "plt.figure(figsize=(10,5))\n",
    "sns.barplot(x=result['Model'],y=result[\"Accuracy(test)\"])\n",
    "plt.xticks(rotation=45) # Rotation of model names\n",
    "print ('Graph showing the Testing Accuracy for the various models')"
   ]
  },
  {
   "cell_type": "markdown",
   "metadata": {},
   "source": [
    "#### ii. F1 Score"
   ]
  },
  {
   "cell_type": "code",
   "execution_count": 95,
   "metadata": {},
   "outputs": [
    {
     "data": {
      "text/html": [
       "<div>\n",
       "<style scoped>\n",
       "    .dataframe tbody tr th:only-of-type {\n",
       "        vertical-align: middle;\n",
       "    }\n",
       "\n",
       "    .dataframe tbody tr th {\n",
       "        vertical-align: top;\n",
       "    }\n",
       "\n",
       "    .dataframe thead th {\n",
       "        text-align: right;\n",
       "    }\n",
       "</style>\n",
       "<table border=\"1\" class=\"dataframe\">\n",
       "  <thead>\n",
       "    <tr style=\"text-align: right;\">\n",
       "      <th></th>\n",
       "      <th>Accuracy(train)</th>\n",
       "      <th>Accuracy(test)</th>\n",
       "      <th>F1 Score</th>\n",
       "      <th>Time</th>\n",
       "    </tr>\n",
       "    <tr>\n",
       "      <th>Model</th>\n",
       "      <th></th>\n",
       "      <th></th>\n",
       "      <th></th>\n",
       "      <th></th>\n",
       "    </tr>\n",
       "  </thead>\n",
       "  <tbody>\n",
       "    <tr>\n",
       "      <th>Gradient Boosting</th>\n",
       "      <td>0.73717</td>\n",
       "      <td>0.72444</td>\n",
       "      <td>0.70223</td>\n",
       "      <td>3.03555</td>\n",
       "    </tr>\n",
       "    <tr>\n",
       "      <th>Extreme Gradient Boosting</th>\n",
       "      <td>0.73842</td>\n",
       "      <td>0.72469</td>\n",
       "      <td>0.70142</td>\n",
       "      <td>29.75746</td>\n",
       "    </tr>\n",
       "    <tr>\n",
       "      <th>Decision Tree</th>\n",
       "      <td>0.73878</td>\n",
       "      <td>0.72125</td>\n",
       "      <td>0.69938</td>\n",
       "      <td>0.08049</td>\n",
       "    </tr>\n",
       "    <tr>\n",
       "      <th>Logistic Regression</th>\n",
       "      <td>0.72835</td>\n",
       "      <td>0.71824</td>\n",
       "      <td>0.69506</td>\n",
       "      <td>0.10230</td>\n",
       "    </tr>\n",
       "    <tr>\n",
       "      <th>AdaBoost</th>\n",
       "      <td>0.72972</td>\n",
       "      <td>0.72008</td>\n",
       "      <td>0.68669</td>\n",
       "      <td>2.58600</td>\n",
       "    </tr>\n",
       "    <tr>\n",
       "      <th>Random Forest</th>\n",
       "      <td>0.98721</td>\n",
       "      <td>0.70019</td>\n",
       "      <td>0.68576</td>\n",
       "      <td>5.17517</td>\n",
       "    </tr>\n",
       "    <tr>\n",
       "      <th>Naive Bayes</th>\n",
       "      <td>0.71832</td>\n",
       "      <td>0.71106</td>\n",
       "      <td>0.68099</td>\n",
       "      <td>0.04439</td>\n",
       "    </tr>\n",
       "    <tr>\n",
       "      <th>KNeighborst</th>\n",
       "      <td>0.72603</td>\n",
       "      <td>0.71094</td>\n",
       "      <td>0.67811</td>\n",
       "      <td>25.17822</td>\n",
       "    </tr>\n",
       "    <tr>\n",
       "      <th>SVM</th>\n",
       "      <td>0.72583</td>\n",
       "      <td>0.71665</td>\n",
       "      <td>0.67743</td>\n",
       "      <td>52.46618</td>\n",
       "    </tr>\n",
       "    <tr>\n",
       "      <th>Extra Trees</th>\n",
       "      <td>0.98723</td>\n",
       "      <td>0.68146</td>\n",
       "      <td>0.66778</td>\n",
       "      <td>5.69215</td>\n",
       "    </tr>\n",
       "  </tbody>\n",
       "</table>\n",
       "</div>"
      ],
      "text/plain": [
       "                           Accuracy(train)  Accuracy(test)  F1 Score      Time\n",
       "Model                                                                         \n",
       "Gradient Boosting                  0.73717         0.72444   0.70223   3.03555\n",
       "Extreme Gradient Boosting          0.73842         0.72469   0.70142  29.75746\n",
       "Decision Tree                      0.73878         0.72125   0.69938   0.08049\n",
       "Logistic Regression                0.72835         0.71824   0.69506   0.10230\n",
       "AdaBoost                           0.72972         0.72008   0.68669   2.58600\n",
       "Random Forest                      0.98721         0.70019   0.68576   5.17517\n",
       "Naive Bayes                        0.71832         0.71106   0.68099   0.04439\n",
       "KNeighborst                        0.72603         0.71094   0.67811  25.17822\n",
       "SVM                                0.72583         0.71665   0.67743  52.46618\n",
       "Extra Trees                        0.98723         0.68146   0.66778   5.69215"
      ]
     },
     "execution_count": 95,
     "metadata": {},
     "output_type": "execute_result"
    }
   ],
   "source": [
    "# Read result file from CSV\n",
    "#result = pd.read_csv(\"model_result1.csv\")\n",
    "\n",
    "# sort by accuracy\n",
    "result.sort_values(by=[\"F1 Score\"], axis=0 ,ascending=False, inplace=True)\n",
    "result.set_index('Model')"
   ]
  },
  {
   "cell_type": "code",
   "execution_count": 96,
   "metadata": {},
   "outputs": [
    {
     "name": "stdout",
     "output_type": "stream",
     "text": [
      "Graph showing the F1 Score for the various models\n"
     ]
    },
    {
     "data": {
      "image/png": "[encoded data removed]",
      "text/plain": [
       "<Figure size 720x360 with 1 Axes>"
      ]
     },
     "metadata": {
      "needs_background": "light"
     },
     "output_type": "display_data"
    }
   ],
   "source": [
    "# Plot training accuracy for various models\n",
    "plt.figure(figsize=(10,5))\n",
    "sns.barplot(x=result['Model'],y=result[\"F1 Score\"])\n",
    "plt.xticks(rotation=45) # Rotation of model names\n",
    "print ('Graph showing the F1 Score for the various models')"
   ]
  },
  {
   "cell_type": "markdown",
   "metadata": {},
   "source": [
    "#### iii. Training Time"
   ]
  },
  {
   "cell_type": "code",
   "execution_count": 97,
   "metadata": {},
   "outputs": [
    {
     "data": {
      "text/html": [
       "<div>\n",
       "<style scoped>\n",
       "    .dataframe tbody tr th:only-of-type {\n",
       "        vertical-align: middle;\n",
       "    }\n",
       "\n",
       "    .dataframe tbody tr th {\n",
       "        vertical-align: top;\n",
       "    }\n",
       "\n",
       "    .dataframe thead th {\n",
       "        text-align: right;\n",
       "    }\n",
       "</style>\n",
       "<table border=\"1\" class=\"dataframe\">\n",
       "  <thead>\n",
       "    <tr style=\"text-align: right;\">\n",
       "      <th></th>\n",
       "      <th>Accuracy(train)</th>\n",
       "      <th>Accuracy(test)</th>\n",
       "      <th>F1 Score</th>\n",
       "      <th>Time</th>\n",
       "    </tr>\n",
       "    <tr>\n",
       "      <th>Model</th>\n",
       "      <th></th>\n",
       "      <th></th>\n",
       "      <th></th>\n",
       "      <th></th>\n",
       "    </tr>\n",
       "  </thead>\n",
       "  <tbody>\n",
       "    <tr>\n",
       "      <th>Naive Bayes</th>\n",
       "      <td>0.71832</td>\n",
       "      <td>0.71106</td>\n",
       "      <td>0.68099</td>\n",
       "      <td>0.04439</td>\n",
       "    </tr>\n",
       "    <tr>\n",
       "      <th>Decision Tree</th>\n",
       "      <td>0.73878</td>\n",
       "      <td>0.72125</td>\n",
       "      <td>0.69938</td>\n",
       "      <td>0.08049</td>\n",
       "    </tr>\n",
       "    <tr>\n",
       "      <th>Logistic Regression</th>\n",
       "      <td>0.72835</td>\n",
       "      <td>0.71824</td>\n",
       "      <td>0.69506</td>\n",
       "      <td>0.10230</td>\n",
       "    </tr>\n",
       "    <tr>\n",
       "      <th>AdaBoost</th>\n",
       "      <td>0.72972</td>\n",
       "      <td>0.72008</td>\n",
       "      <td>0.68669</td>\n",
       "      <td>2.58600</td>\n",
       "    </tr>\n",
       "    <tr>\n",
       "      <th>Gradient Boosting</th>\n",
       "      <td>0.73717</td>\n",
       "      <td>0.72444</td>\n",
       "      <td>0.70223</td>\n",
       "      <td>3.03555</td>\n",
       "    </tr>\n",
       "    <tr>\n",
       "      <th>Random Forest</th>\n",
       "      <td>0.98721</td>\n",
       "      <td>0.70019</td>\n",
       "      <td>0.68576</td>\n",
       "      <td>5.17517</td>\n",
       "    </tr>\n",
       "    <tr>\n",
       "      <th>Extra Trees</th>\n",
       "      <td>0.98723</td>\n",
       "      <td>0.68146</td>\n",
       "      <td>0.66778</td>\n",
       "      <td>5.69215</td>\n",
       "    </tr>\n",
       "    <tr>\n",
       "      <th>KNeighborst</th>\n",
       "      <td>0.72603</td>\n",
       "      <td>0.71094</td>\n",
       "      <td>0.67811</td>\n",
       "      <td>25.17822</td>\n",
       "    </tr>\n",
       "    <tr>\n",
       "      <th>Extreme Gradient Boosting</th>\n",
       "      <td>0.73842</td>\n",
       "      <td>0.72469</td>\n",
       "      <td>0.70142</td>\n",
       "      <td>29.75746</td>\n",
       "    </tr>\n",
       "    <tr>\n",
       "      <th>SVM</th>\n",
       "      <td>0.72583</td>\n",
       "      <td>0.71665</td>\n",
       "      <td>0.67743</td>\n",
       "      <td>52.46618</td>\n",
       "    </tr>\n",
       "  </tbody>\n",
       "</table>\n",
       "</div>"
      ],
      "text/plain": [
       "                           Accuracy(train)  Accuracy(test)  F1 Score      Time\n",
       "Model                                                                         \n",
       "Naive Bayes                        0.71832         0.71106   0.68099   0.04439\n",
       "Decision Tree                      0.73878         0.72125   0.69938   0.08049\n",
       "Logistic Regression                0.72835         0.71824   0.69506   0.10230\n",
       "AdaBoost                           0.72972         0.72008   0.68669   2.58600\n",
       "Gradient Boosting                  0.73717         0.72444   0.70223   3.03555\n",
       "Random Forest                      0.98721         0.70019   0.68576   5.17517\n",
       "Extra Trees                        0.98723         0.68146   0.66778   5.69215\n",
       "KNeighborst                        0.72603         0.71094   0.67811  25.17822\n",
       "Extreme Gradient Boosting          0.73842         0.72469   0.70142  29.75746\n",
       "SVM                                0.72583         0.71665   0.67743  52.46618"
      ]
     },
     "execution_count": 97,
     "metadata": {},
     "output_type": "execute_result"
    }
   ],
   "source": [
    "# sort by timing\n",
    "result.sort_values(by=[\"Time\"], axis=0 ,ascending=True, inplace=True)\n",
    "result.set_index('Model')"
   ]
  },
  {
   "cell_type": "code",
   "execution_count": 98,
   "metadata": {},
   "outputs": [
    {
     "name": "stdout",
     "output_type": "stream",
     "text": [
      "Graph showing the processing time for the various models\n"
     ]
    },
    {
     "data": {
      "image/png": "[encoded data removed]",
      "text/plain": [
       "<Figure size 720x360 with 1 Axes>"
      ]
     },
     "metadata": {
      "needs_background": "light"
     },
     "output_type": "display_data"
    }
   ],
   "source": [
    "# Plot training time for various models\n",
    "plt.figure(figsize=(10,5))\n",
    "sns.barplot(x=result['Model'],y=result[\"Time\"])\n",
    "plt.xticks(rotation=45) # Rotation of model names\n",
    "\n",
    "print ('Graph showing the processing time for the various models')"
   ]
  },
  {
   "cell_type": "markdown",
   "metadata": {},
   "source": [
    "#### From the results, we will focus on the following model using Extreme Gradient Boosting"
   ]
  },
  {
   "cell_type": "markdown",
   "metadata": {},
   "source": [
    "## 5. Tuning of XGBoost hyperparameters & Cross Validation\n",
    "\n",
    "##### https://www.analyticsvidhya.com/blog/2016/03/complete-guide-parameter-tuning-xgboost-with-codes-python/\n",
    "Hyperparameter tuning is carried out for the Extreme Gradient Boosting to improve the performance\n",
    "General Approach for Parameter Tuning."
   ]
  },
  {
   "cell_type": "code",
   "execution_count": 99,
   "metadata": {},
   "outputs": [],
   "source": [
    "#Import libraries:\n",
    "import pandas as pd\n",
    "import numpy as np\n",
    "import xgboost as xgb\n",
    "from xgboost.sklearn import XGBClassifier\n",
    "from sklearn import metrics\n",
    "from sklearn.model_selection import GridSearchCV"
   ]
  },
  {
   "cell_type": "markdown",
   "metadata": {},
   "source": [
    "### a. Tuning of max_depth & min_child_weight parameters"
   ]
  },
  {
   "cell_type": "code",
   "execution_count": 100,
   "metadata": {},
   "outputs": [
    {
     "name": "stdout",
     "output_type": "stream",
     "text": [
      "XGBClassifier(base_score=0.5, booster='gbtree', colsample_bylevel=1,\n",
      "              colsample_bynode=1, colsample_bytree=1, gamma=0,\n",
      "              learning_rate=0.01, max_delta_step=0, max_depth=3,\n",
      "              min_child_weight=1, missing=None, n_estimators=2000, n_jobs=1,\n",
      "              nthread=None, objective='binary:logistic', random_state=0,\n",
      "              reg_alpha=0, reg_lambda=1, scale_pos_weight=1, seed=None,\n",
      "              silent=None, subsample=1, verbosity=1)\n",
      "0.73544\n"
     ]
    }
   ],
   "source": [
    "xgb = XGBClassifier(n_estimators= 2000, learning_rate=0.01)\n",
    "print (xgb)\n",
    "xgb.fit(dfx, dfy)\n",
    "predict = xgb.predict(dfx)\n",
    "acc = round(accuracy_score(dfy, predict), 5)\n",
    "print (acc)"
   ]
  },
  {
   "cell_type": "code",
   "execution_count": 101,
   "metadata": {},
   "outputs": [
    {
     "name": "stdout",
     "output_type": "stream",
     "text": [
      "Tuned hyperparameter: {'max_depth': 2, 'min_child_weight': 4}\n",
      "Best score: 0.7974258930152244\n"
     ]
    }
   ],
   "source": [
    "# Step 1: Fix learning rate and number of estimators for tuning tree-based parameters\n",
    "# Tuning of max_depth & min_child_weight\n",
    "param_test1 = {\n",
    " 'max_depth':range(1,8,1),\n",
    " 'min_child_weight':range(1,8,1)\n",
    "}\n",
    "gsearch1 = GridSearchCV(estimator = XGBClassifier( learning_rate =0.1, n_estimators=2000, max_depth=5,\n",
    " min_child_weight=1, gamma=0, subsample=0.8, colsample_bytree=0.8,\n",
    " objective= 'binary:logistic', nthread=4, scale_pos_weight=1, seed=27), \n",
    " param_grid = param_test1, scoring='roc_auc',n_jobs=4,cv=5)\n",
    "\n",
    "gsearch1.fit(dfx, dfy)\n",
    "\n",
    "# Print hyperparameter\n",
    "print(\"Tuned hyperparameter: {}\".format(gsearch1.best_params_)) \n",
    "print(\"Best score: {}\".format(gsearch1.best_score_))"
   ]
  },
  {
   "cell_type": "markdown",
   "metadata": {},
   "source": [
    "### b. Tuning of gamma"
   ]
  },
  {
   "cell_type": "code",
   "execution_count": 102,
   "metadata": {},
   "outputs": [
    {
     "name": "stdout",
     "output_type": "stream",
     "text": [
      "Tuned hyperparameter: {'gamma': 0.5}\n",
      "Best score: 0.797437377755957\n"
     ]
    }
   ],
   "source": [
    "# Step 2: Tune gamma\n",
    "# Use 'max_depth': 2, 'min_child_weight': 4\n",
    "param_test2 = {'gamma':[i/10.0 for i in range(0,10)]}\n",
    "\n",
    "gsearch2 = GridSearchCV(estimator = XGBClassifier( learning_rate =0.1, n_estimators=2000, max_depth=2,\n",
    " min_child_weight=4, gamma=0, subsample=0.8, colsample_bytree=0.8,\n",
    " objective= 'binary:logistic', nthread=4, scale_pos_weight=1,seed=27), \n",
    " param_grid = param_test2, scoring='roc_auc',n_jobs=4, cv=5)\n",
    "\n",
    "gsearch2.fit(dfx, dfy)\n",
    "\n",
    "# Print hyperparameter\n",
    "print(\"Tuned hyperparameter: {}\".format(gsearch2.best_params_)) \n",
    "print(\"Best score: {}\".format(gsearch2.best_score_))"
   ]
  },
  {
   "cell_type": "markdown",
   "metadata": {},
   "source": [
    "### c. Tuning of subsample & colsample_bytree"
   ]
  },
  {
   "cell_type": "code",
   "execution_count": 103,
   "metadata": {},
   "outputs": [
    {
     "name": "stdout",
     "output_type": "stream",
     "text": [
      "Tuned hyperparameter: {'colsample_bytree': 0.3, 'subsample': 1.0}\n",
      "Best score: 0.7985117858843921\n"
     ]
    }
   ],
   "source": [
    "# Step 3: Tune subsample and colsample_bytree\n",
    "# Use 'max_depth': 2, 'min_child_weight': 4, 'gamma': 0.5\n",
    "param_test3 = {\n",
    " 'subsample':[i/10.0 for i in range(6,12)],\n",
    " 'colsample_bytree':[i/10.0 for i in range(1,8)]\n",
    "}\n",
    "\n",
    "gsearch3 = GridSearchCV(estimator = XGBClassifier( learning_rate =0.1, n_estimators=2000, max_depth=2,\n",
    " min_child_weight=4, gamma=0.5, subsample=0.8, colsample_bytree=0.8,\n",
    " objective= 'binary:logistic', nthread=4, scale_pos_weight=1,seed=27), \n",
    " param_grid = param_test3, scoring='roc_auc',n_jobs=4,cv=5)\n",
    "\n",
    "gsearch3.fit(dfx, dfy)\n",
    "\n",
    "# Print hyperparameter\n",
    "print(\"Tuned hyperparameter: {}\".format(gsearch3.best_params_)) \n",
    "print(\"Best score: {}\".format(gsearch3.best_score_))"
   ]
  },
  {
   "cell_type": "markdown",
   "metadata": {},
   "source": [
    "#### Optimized Parameters ('max_depth': 2, 'min_child_weight': 4, 'gamma': 0.5, 'colsample_bytree': 0.3, 'subsample': 1.0)"
   ]
  },
  {
   "cell_type": "markdown",
   "metadata": {},
   "source": [
    "### d.  Cross Validation \n",
    "https://towardsdatascience.com/5-reasons-why-you-should-use-cross-validation-in-your-data-science-project-8163311a1e79\n",
    "\n",
    "Cross Validation is used to assess the predictive performance of the models and and to judge how they perform outside the sample to a new data set also known as test data. The motivation to use cross validation techniques is that when we fit a model, we are fitting it to a training dataset."
   ]
  },
  {
   "cell_type": "code",
   "execution_count": 105,
   "metadata": {},
   "outputs": [
    {
     "name": "stdout",
     "output_type": "stream",
     "text": [
      "Extreme Gradient Boosting Average accuracy:  0.7323284920771627\n",
      "Extreme Gradient Boosting Standard Deviation:  0.004677612963894862\n",
      "Gradient Boosting Average accuracy:  0.7319907697477138\n",
      "Gradient Boosting Standard Deviation:  0.004555104186902315\n",
      "Decision Tree Average accuracy:  0.7290128493538093\n",
      "Decision Tree Standard Deviation:  0.005768765772964501\n",
      "AdaBoosting Average accuracy:  0.7273090440307917\n",
      "AdaBoosting Standard Deviation:  0.00363061817869509\n",
      "Logistic Regression Average accuracy:  0.7260656791877038\n",
      "Logistic Regression Standard Deviation:  0.004372793000511551\n"
     ]
    }
   ],
   "source": [
    "# Cross validation for top 5 algorithms\n",
    "from sklearn.linear_model import LogisticRegression\n",
    "from sklearn.tree import DecisionTreeClassifier\n",
    "from sklearn.ensemble import AdaBoostClassifier\n",
    "from sklearn.ensemble import GradientBoostingClassifier\n",
    "from xgboost import XGBClassifier\n",
    "from sklearn.model_selection import cross_val_score\n",
    "\n",
    "lr = LogisticRegression( class_weight=\"balanced\", random_state=42, solver='liblinear', max_iter=10000, C = 1, penalty= 'l2')\n",
    "dt = DecisionTreeClassifier(max_depth=8, min_samples_split=50, min_samples_leaf=50, random_state=13)\n",
    "ada = AdaBoostClassifier(n_estimators=100)       \n",
    "gb = GradientBoostingClassifier(n_estimators = 100)    \n",
    "xgb = XGBClassifier(learning_rate =0.1, n_estimators=2000, max_depth=2,\n",
    "      min_child_weight=4, gamma=0.5, subsample=1.0, colsample_bytree=0.3,\n",
    "      objective= 'binary:logistic', nthread=4, scale_pos_weight=1,seed=27)\n",
    "accuracies_xgb = cross_val_score(estimator=xgb, X=dfx, y=dfy, cv=10)\n",
    "print(\"Extreme Gradient Boosting Average accuracy: \", accuracies_xgb.mean())\n",
    "print(\"Extreme Gradient Boosting Standard Deviation: \", accuracies_xgb.std())\n",
    "\n",
    "accuracies_gb = cross_val_score(estimator=gb, X=dfx, y=dfy, cv=10)\n",
    "print(\"Gradient Boosting Average accuracy: \", accuracies_gb.mean())\n",
    "print(\"Gradient Boosting Standard Deviation: \", accuracies_gb.std())\n",
    "\n",
    "accuracies_dt = cross_val_score(estimator=dt, X=dfx, y=dfy, cv=10)\n",
    "print(\"Decision Tree Average accuracy: \", accuracies_dt.mean())\n",
    "print(\"Decision Tree Standard Deviation: \", accuracies_dt.std())\n",
    "\n",
    "accuracies_ada = cross_val_score(estimator=ada, X=dfx, y=dfy, cv=10)\n",
    "print(\"AdaBoosting Average accuracy: \", accuracies_ada.mean())\n",
    "print(\"AdaBoosting Standard Deviation: \", accuracies_ada.std())\n",
    "\n",
    "accuracies_lr = cross_val_score(estimator=lr, X=dfx, y=dfy, cv=10)\n",
    "print(\"Logistic Regression Average accuracy: \", accuracies_lr.mean())\n",
    "print(\"Logistic Regression Standard Deviation: \", accuracies_lr.std())"
   ]
  },
  {
   "cell_type": "markdown",
   "metadata": {},
   "source": [
    "#### Extreme Gradient Boosting gives the best average accuracy and the standard deviation is relatively low indicating the reliability of the training algorithm."
   ]
  },
  {
   "cell_type": "markdown",
   "metadata": {},
   "source": [
    "### e. Running the Xgb Algorithm to save the optimised trained model"
   ]
  },
  {
   "cell_type": "code",
   "execution_count": 105,
   "metadata": {},
   "outputs": [
    {
     "name": "stdout",
     "output_type": "stream",
     "text": [
      "Training accuracy (optimized): 0.73813 (pre-optimized 0.73842)\n",
      "Testing accuracy (optimized): 0.725 (pre-optimized 0.72469)\n",
      "F1 Score (optimized): 0.70154 (pre-optimized 0.70142)\n",
      "\n",
      "Save the Optimised XGB Model\n"
     ]
    }
   ],
   "source": [
    "from sklearn import metrics\n",
    "from sklearn.metrics import f1_score\n",
    "from xgboost import XGBClassifier\n",
    "import pickle\n",
    "\n",
    "xgb = XGBClassifier(learning_rate =0.1, n_estimators=2000, max_depth=2,\n",
    "      min_child_weight=4, gamma=0.5, subsample=1.0, colsample_bytree=0.3,\n",
    "      objective= 'binary:logistic', nthread=4, scale_pos_weight=1,seed=27)\n",
    "\n",
    "xgb.fit(x_train, y_train)\n",
    "y_train_predict = xgb.predict(x_train)\n",
    "y_test_predict = xgb.predict(x_test)\n",
    "\n",
    "accuracy1 = round(accuracy_score(y_train, y_train_predict), 5)\n",
    "accuracy2 = round(accuracy_score(y_test, y_test_predict), 5) \n",
    "accuracy3 = round(f1_score(y_test, y_test_predict), 5)\n",
    "    \n",
    "print ('Training accuracy (optimized):', accuracy1, '(pre-optimized 0.73842)')\n",
    "print ('Testing accuracy (optimized):', accuracy2, '(pre-optimized 0.72469)')\n",
    "print ('F1 Score (optimized):', accuracy3, '(pre-optimized 0.70142)')\n",
    "\n",
    "# save the optimised trained model\n",
    "print ('\\nSave the Optimised XGB Model')\n",
    "model = xgb.fit(dfx, dfy)\n",
    "filename = 'xgbopt_model.sav'\n",
    "pickle.dump(model, open(filename, 'wb'))"
   ]
  },
  {
   "cell_type": "markdown",
   "metadata": {},
   "source": [
    "#### The hyperparameters tuning resulted in an improvement in both the testing accuracy and F1 Score."
   ]
  },
  {
   "cell_type": "markdown",
   "metadata": {},
   "source": [
    "## 6. Using Optimized XGB Classifier for Prediction"
   ]
  },
  {
   "cell_type": "markdown",
   "metadata": {},
   "source": [
    "### a. Getting Information of Patient & Predicting"
   ]
  },
  {
   "cell_type": "code",
   "execution_count": 104,
   "metadata": {},
   "outputs": [
    {
     "name": "stdout",
     "output_type": "stream",
     "text": [
      "\n",
      "This alogorithm will try to predict if you are likely to have Cardiovascular Disease.\n",
      "The following information is needed for the prediction.\n",
      "\n",
      "Please input your name: koh\n",
      "Please input your age (in years): 56\n",
      "Please input 1 for female & 2 for male: 2\n",
      "Please input your weight in kg: 65\n",
      "Please input your height in cm: 173\n",
      "Please input your Systolic Blood Pressure (the higher value) in mmHg: 120\n",
      "Please input your Diastolic Blood Pressure (the lower value) in mmHg: 80\n",
      "Please input 1 for normal cholesterol, 2 for above normal cholesterol & for well above normal cholesterol: 1\n",
      "Please input 1 for normal gluclose, 2 for above normal gluclose & 3 for well above normal glucose: 1\n",
      "Please input 1 for smoker & 2 for non-smoker: 2\n",
      "Please input 1 for drinker & 2 for non-drinker: 2\n",
      "Please input 1 for active & 2 for non-active: 1\n",
      "\n",
      "------------------------------------\n",
      "\n",
      "Your name : koh\n",
      "Your age is 56 years old\n",
      "Your weight is 65 kg\n",
      "Your height is 173 cm\n",
      "Your Systolic Blood Pressure is 120 mmHg\n",
      "Your Diastolic Blood Pressure is 80 mmHg\n",
      "Your cholesterol is normal\n",
      "Your glucose is normal\n",
      "You are male\n",
      "You are a non-smoker\n",
      "You are non-alcohol drinker\n",
      "You are active\n",
      "\n",
      "Is the information correct (Y/N)?y\n",
      "\n",
      "Your BMI is 21.72 and you are in Healthy Category\n",
      "Your Blood Pressure Category is Normal\n",
      "\u001b[1m\n",
      "Hello, koh \u001b[1m\n",
      "\u001b[1m\n",
      "The probability of you having or to have a Cardiovascular Disease is low. \n",
      "Congratulations! You are healthy. :)\u001b[0m\n",
      "\n",
      "---------------------------------------------------------------------------------------------------\n",
      "\n",
      "Thank you for using this tool.\n",
      "This prediction of Cardiovascular Disease is carried out using Machine Learning.\n",
      "It is important that the user understands this is still a prediction and not an absolute.\n",
      "The authors/developers of the tools are in no way liable for outcomes following the use of the tools.\n",
      "\n",
      "---------------------------------------------------------------------------------------------------\n",
      "\n"
     ]
    }
   ],
   "source": [
    "# Getting input data from users\n",
    "\n",
    "def inputNumber(message):\n",
    "  while True:\n",
    "    try:\n",
    "       userInput = int(input(message))       \n",
    "    except ValueError:\n",
    "       print(\"Please input an integer! Try again.\")\n",
    "       continue\n",
    "    else:\n",
    "       return userInput \n",
    "       break \n",
    "\n",
    "print ('\\nThis alogorithm will try to predict if you are likely to have Cardiovascular Disease.')\n",
    "print ('The following information is needed for the prediction.\\n')\n",
    "\n",
    "# Getting information for prediction\n",
    "check = 'N'\n",
    "while check == 'N' or check =='n':\n",
    "    name = input (\"Please input your name: \") \n",
    "    age = inputNumber (\"Please input your age (in years): \")    \n",
    "    gender = inputNumber (\"Please input 1 for female & 2 for male: \")\n",
    "    weight = inputNumber (\"Please input your weight in kg: \")\n",
    "    height = inputNumber (\"Please input your height in cm: \")\n",
    "    ap_hi = inputNumber (\"Please input your Systolic Blood Pressure (the higher value) in mmHg: \")\n",
    "    ap_lo = inputNumber (\"Please input your Diastolic Blood Pressure (the lower value) in mmHg: \")\n",
    "    cho = inputNumber (\"Please input 1 for normal cholesterol, 2 for above normal cholesterol & for well above normal cholesterol: \")\n",
    "    gluc = inputNumber(\"Please input 1 for normal gluclose, 2 for above normal gluclose & 3 for well above normal glucose: \")\n",
    "    smoke = inputNumber(\"Please input 1 for smoker & 2 for non-smoker: \")\n",
    "    alco = inputNumber (\"Please input 1 for drinker & 2 for non-drinker: \")\n",
    "    active = inputNumber (\"Please input 1 for active & 2 for non-active: \")\n",
    "\n",
    "    # Check Female/Male\n",
    "    if gender == 1:\n",
    "        gender1 = 'female'\n",
    "    else:\n",
    "        gender1 = 'male'\n",
    "        gender == 2\n",
    "       \n",
    "    # Check the cholesterol \n",
    "    if cho == 1:\n",
    "        cho1 = 'normal'\n",
    "    elif cho == 2:\n",
    "        cho1 = 'above normal'\n",
    "    else:\n",
    "        cho1 = 'well above normal'\n",
    "        cho = 3\n",
    "\n",
    "    # Checck the glucose \n",
    "    if gluc == 1:\n",
    "        gluc1 = 'normal'\n",
    "    elif gluc == 2:\n",
    "        gluc1 = 'above normal'\n",
    "    else:\n",
    "        gluc1 = 'well above normal'\n",
    "        gluc = 3\n",
    "        \n",
    "    # Check smoker/non-smoker\n",
    "    if smoke == 1:\n",
    "        smoke1 = 'smoker'\n",
    "    else:\n",
    "        smoke1 = 'non-smoker'\n",
    "        smoke = 2\n",
    "\n",
    "    # Check Active/Non active\n",
    "    if alco == 1:\n",
    "        alco1 = 'alcohol drinker'\n",
    "    else:\n",
    "        alco1 = 'non-alcohol drinker'\n",
    "        alco = 2\n",
    "       \n",
    "    # Check Active/Non active\n",
    "    if active == 1:\n",
    "        active1 = 'active'\n",
    "    else:\n",
    "        active1 = 'non-active'\n",
    "        active = 2\n",
    "\n",
    "    print ('\\n------------------------------------\\n')\n",
    "    print ('Your name :', name)\n",
    "    print ('Your age is', age,'years old')\n",
    "    print ('Your weight is', weight,'kg')\n",
    "    print ('Your height is', height,'cm')\n",
    "    print ('Your Systolic Blood Pressure is', ap_hi, 'mmHg')\n",
    "    print ('Your Diastolic Blood Pressure is', ap_lo, 'mmHg')\n",
    "    print ('Your cholesterol is', cho1)\n",
    "    print ('Your glucose is', gluc1)\n",
    "    print ('You are', gender1)\n",
    "    print ('You are a', smoke1)     \n",
    "    print ('You are', alco1)\n",
    "    print ('You are', active1)    \n",
    "\n",
    "    check = input (\"\\nIs the information correct (Y/N)?\")\n",
    "\n",
    "# calculation of bmi\n",
    "n = (weight/height/height)*10000\n",
    "if n <= 18.5:              #Underweight\n",
    "        val = 2\n",
    "        bmi1 = 'Underweight Category'\n",
    "elif n> 18.5 and n<25:     #Healthy\n",
    "        val = 1\n",
    "        bmi1 = 'Healthy Category'\n",
    "elif n>= 25 and n<30:      #Overweight\n",
    "        val = 3\n",
    "        bmi1 = 'Overweight Category'\n",
    "else:\n",
    "        val = 4             #Obese\n",
    "        bmi1 = 'Obese Category'\n",
    "bmi = val\n",
    "print ('\\nYour BMI is', round(n,2),'and you are in', bmi1)\n",
    "    \n",
    "# calculation of blood pressure category\n",
    "n = ap_hi\n",
    "v = ap_lo\n",
    "if n <= 120 and v <= 80:                           # Normal\n",
    "        bpc = 1\n",
    "        bpc1 = 'Normal'\n",
    "elif n > 120 and n <= 130 and v <= 80:              # Elevated \n",
    "        bpc = 2 \n",
    "        bpc1 = 'Elevated'\n",
    "elif n >= 130 and n <= 140 or v >= 80 and v <= 90:   # High blood pressure stage 1(Hypertension) \n",
    "        bpc =3  \n",
    "        bpc1 = 'Hypertension Stage 1'\n",
    "elif n >= 140 and n <= 180 or v >= 90 and v <= 120:  # High blood pressure stage 2(Hypertension)\n",
    "        bpc = 4 \n",
    "        bpc1 = 'Hypertension Stage 2'\n",
    "elif n >= 180 or v >= 120:                         # Hyertensive Crisis (see doctor immediately)\n",
    "        bpc = 5    \n",
    "        bpc1 = 'Hyertensive Crisis - Please consult doctor immediately'\n",
    "else:\n",
    "        bpc = 5\n",
    "        bpc1 = 'Your blood pressure result is abnormal.  Plese consult doctor.'\n",
    "\n",
    "print ('Your Blood Pressure Category is', bpc1)\n",
    "\n",
    "#Putting this information into new dataframe for prediction\n",
    "predict = pd.DataFrame(columns = ('age','gender','height','weight','ap_hi','ap_lo',\n",
    "                                'cholesterol','gluc','smoke','alco','active','bmi','bpc'))\n",
    "single=np.array([age, gender, height, weight, ap_hi, ap_lo, cho, gluc, smoke, alco, active, bmi, bpc])\n",
    "single = single.astype(int)\n",
    "predict.loc[0] = single\n",
    "\n",
    "# convert from type(object) to type(integer)\n",
    "predict['age'] = predict['age'].astype(int)\n",
    "predict['gender'] = predict['gender'].astype(int)\n",
    "predict['height'] = predict['height'].astype(int)\n",
    "predict['weight'] = predict['weight'].astype(int)\n",
    "predict['ap_hi'] = predict['ap_hi'].astype(int)\n",
    "predict['ap_lo'] = predict['ap_lo'].astype(int)\n",
    "predict['cholesterol'] = predict['cholesterol'].astype(int)\n",
    "predict['gluc'] = predict['gluc'].astype(int)\n",
    "predict['smoke'] = predict['smoke'].astype(int)\n",
    "predict['alco'] = predict['alco'].astype(int)\n",
    "predict['active'] = predict['active'].astype(int)\n",
    "predict['bmi'] = predict['bmi'].astype(int)\n",
    "predict['bpc'] = predict['bpc'].astype(int)\n",
    "\n",
    "# Using the tuned parameters and using XGB Classifier to predict CVD\n",
    "from xgboost.sklearn import XGBClassifier\n",
    "xgb = XGBClassifier(learning_rate =0.1, n_estimators=2000, max_depth=2,\n",
    "      min_child_weight=4, gamma=0.5, subsample=1.0, colsample_bytree=0.3,\n",
    "      objective= 'binary:logistic', nthread=4, scale_pos_weight=1,seed=27)\n",
    "\n",
    "# load the model from disk\n",
    "loaded_model = pickle.load(open('xgbopt_model.sav', 'rb'))\n",
    "\n",
    "#xgb.fit(dfx, dfy)\n",
    "#cvd_predict = xgb.predict(predict)\n",
    "cvd_predict = loaded_model.predict(predict)\n",
    "\n",
    "print (\"\\033[1m\" + '\\nHello,' ,name, \"\\033[1m\")\n",
    "if cvd_predict != 0:\n",
    "    print(\"\\033[1m\"+\"\\nThe probability of you having or to have a Cardiovascular Disease is high. :(\")\n",
    "    print(\"You must visit a doctor to check it.\" + \"\\033[0m\")\n",
    "else:\n",
    "    print(\"\\033[1m\"+\"\\nThe probability of you having or to have a Cardiovascular Disease is low. \")\n",
    "    print(\"Congratulations! You are healthy. :)\" + \"\\033[0m\")\n",
    "\n",
    "print ('\\n---------------------------------------------------------------------------------------------------\\n')  \n",
    "print ('Thank you for using this tool.')    \n",
    "print ('This prediction of Cardiovascular Disease is carried out using Machine Learning.')\n",
    "print ('It is important that the user understands this is still a prediction and not an absolute.')\n",
    "print ('The authors/developers of the tools are in no way liable for outcomes following the use of the tools.')\n",
    "print ('\\n---------------------------------------------------------------------------------------------------\\n') \n"
   ]
  },
  {
   "cell_type": "markdown",
   "metadata": {},
   "source": [
    "#### This program has been loaded to GitHub."
   ]
  },
  {
   "cell_type": "markdown",
   "metadata": {},
   "source": [
    "### --- End of Program ---"
   ]
  }
 ],
 "metadata": {
  "kernelspec": {
   "display_name": "Python 3",
   "language": "python",
   "name": "python3"
  },
  "language_info": {
   "codemirror_mode": {
    "name": "ipython",
    "version": 3
   },
   "file_extension": ".py",
   "mimetype": "text/x-python",
   "name": "python",
   "nbconvert_exporter": "python",
   "pygments_lexer": "ipython3",
   "version": "3.7.1"
  }
 },
 "nbformat": 4,
 "nbformat_minor": 2
}
